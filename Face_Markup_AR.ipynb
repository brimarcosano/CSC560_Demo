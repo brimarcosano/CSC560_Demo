{
  "nbformat": 4,
  "nbformat_minor": 0,
  "metadata": {
    "colab": {
      "name": "Face Markup AR.ipynb",
      "provenance": [],
      "collapsed_sections": [
        "4z7FWeBPPwVB",
        "eCSaSO8ztDDp"
      ],
      "include_colab_link": true
    },
    "kernelspec": {
      "name": "python3",
      "display_name": "Python 3"
    },
    "language_info": {
      "name": "python"
    }
  },
  "cells": [
    {
      "cell_type": "markdown",
      "metadata": {
        "id": "view-in-github",
        "colab_type": "text"
      },
      "source": [
        "<a href=\"https://colab.research.google.com/github/brimarcosano/CSC560_Demo/blob/main/Face_Markup_AR.ipynb\" target=\"_parent\"><img src=\"https://colab.research.google.com/assets/colab-badge.svg\" alt=\"Open In Colab\"/></a>"
      ]
    },
    {
      "cell_type": "markdown",
      "source": [
        "#**Project C: Expression Identification using Face Images**\n",
        "\n",
        "###**Tom Birmingham, Mohammed Mahmud, & Brianna Marcosano**\n",
        "...\n",
        "#### CSC581 Computational Intelligence\n",
        "#### Southern Connecticut State Univeristy\n",
        "#### Summer 2022"
      ],
      "metadata": {
        "id": "tdVEmnR7B3Xc"
      }
    },
    {
      "cell_type": "markdown",
      "source": [
        "# About\n",
        "---\n",
        "## Purpose\n",
        "The purpose of this project is to measure the performance of five classifiers in Artificial/Computational Intelligence when performing human expression identification (natural, smile, or anger). \n",
        "\n",
        "## Dataset\n",
        "The following experiments use the AR Face Database created by Aleix Martinez and Robert Benavente at the Computer Vision Center at the Autonomous University of Barcelona (http://www2.ece.ohio-state.edu/~aleix/ARdatabase.html). Of this data, 80% of the will be used for training and 20% will be used for testing. \n",
        "\n",
        "## Classifiers\n",
        "The performance of each classifier will be measured in terms of accuracy, precision, and recall rate. The following classifiers are tested:\n",
        "1.   K-Nearest Neighbors\n",
        "2.   Artificial Neural Network\n",
        "3.   Naïve Bayes\n",
        "4.   Decision Tree\n",
        "5.   Support Vector Machine\n",
        "\n",
        "## Solution\n",
        "First, AR Face Database is imported from Google Drive. Then feature extraction from the points in each face image is performed. Next, each classifier is trained and tested.\n",
        "\n",
        "## Results\n",
        "Please see our final report for results and anaylsis: [Project C: Face Markup Project CSC581 - Google Docs](https://docs.google.com/document/d/16ezHk6AsGXAaJAzE5p9WlZVqd-hpDlFnomzNs6HdlSg/edit?usp=sharing)\n"
      ],
      "metadata": {
        "id": "miIwjp7lomYS"
      }
    },
    {
      "cell_type": "markdown",
      "source": [
        "# Import Python Libraries\n",
        "---\n",
        "The following libraries must be imported to support the proceeding code blocks. . ."
      ],
      "metadata": {
        "id": "0cb4ByXZrORS"
      }
    },
    {
      "cell_type": "code",
      "execution_count": null,
      "metadata": {
        "id": "CjcyP7CL_0dU"
      },
      "outputs": [],
      "source": [
        "from google.colab import drive\n",
        "import sklearn\n",
        "from glob import glob\n",
        "import pandas as pd\n",
        "import numpy as np\n",
        "from math import sqrt, pow\n",
        "from sklearn import preprocessing"
      ]
    },
    {
      "cell_type": "markdown",
      "source": [
        "# Importing AR Face Markup Database\n",
        "---\n",
        "In order to import the data, the Face Markup AR Database was uploaded to Google Drive. Using the Google Colab library, Google Drive is mounted and the ***./Face Markup AR Database*** directory is accessed. All samples are stored in the ***./points_22*** directory."
      ],
      "metadata": {
        "id": "J6_yr2mQCFHI"
      }
    },
    {
      "cell_type": "code",
      "source": [
        "# Mount Google Drive\n",
        "drive.mount('/content/drive')\n",
        "\n",
        "# Create Symbolic Link to ./points_22 directory\n",
        "! ln -s /content/drive/'My Drive'/'Face Markup AR Database'/'Face Markup AR Database'/points_22\n",
        "\n",
        "# Display the contents of points_22\n",
        "! ls points_22 "
      ],
      "metadata": {
        "id": "7DO3bL4YAvav",
        "colab": {
          "base_uri": "https://localhost:8080/"
        },
        "outputId": "c6942bf0-b25c-4a29-9c34-27a640d1b952"
      },
      "execution_count": null,
      "outputs": [
        {
          "output_type": "stream",
          "name": "stdout",
          "text": [
            "Mounted at /content/drive\n",
            "m-001  m-014  m-027  m-040  m-053  m-066  w-003  w-017\tw-030  w-043  w-056\n",
            "m-002  m-015  m-028  m-041  m-054  m-067  w-004  w-018\tw-031  w-044  w-057\n",
            "m-003  m-016  m-029  m-042  m-055  m-068  w-005  w-019\tw-032  w-045  w-058\n",
            "m-004  m-017  m-030  m-043  m-056  m-069  w-007  w-020\tw-033  w-046  w-059\n",
            "m-005  m-018  m-031  m-044  m-057  m-070  w-008  w-021\tw-034  w-047  w-060\n",
            "m-006  m-019  m-032  m-045  m-058  m-071  w-009  w-022\tw-035  w-048\n",
            "m-007  m-020  m-033  m-046  m-059  m-072  w-010  w-023\tw-036  w-049\n",
            "m-008  m-021  m-034  m-047  m-060  m-073  w-011  w-024\tw-037  w-050\n",
            "m-009  m-022  m-035  m-048  m-061  m-074  w-012  w-025\tw-038  w-051\n",
            "m-010  m-023  m-036  m-049  m-062  m-075  w-013  w-026\tw-039  w-052\n",
            "m-011  m-024  m-037  m-050  m-063  m-076  w-014  w-027\tw-040  w-053\n",
            "m-012  m-025  m-038  m-051  m-064  w-001  w-015  w-028\tw-041  w-054\n",
            "m-013  m-026  m-039  m-052  m-065  w-002  w-016  w-029\tw-042  w-055\n"
          ]
        }
      ]
    },
    {
      "cell_type": "markdown",
      "source": [
        "# Feature Extraction\n",
        "---\n",
        "Feature extraction is performed on the dataset before training. Feature Extraction takes raw data as input and outputs a dataframe as a table with features for all samples.\n",
        "\n",
        "To extract the features, we must iterate over each sample. There are 136 persons in the database (76 men and 60 woman). For each person, iterate over samples natural, smile, and anger expressions. For each sample, extract the following seven features:\n",
        "\n",
        "\n",
        "1.   Eye length ratio\n",
        "2.   Eye distance ratio\n",
        "3.   Nose ratio\n",
        "4.   Lip size ratio\n",
        "5.   Lip length ratio\n",
        "6.   Eyebrow length ratio\n",
        "7.   Aggressive ratio\n",
        "\n",
        "Feature definitions are as follows:\n"
      ],
      "metadata": {
        "id": "QA7r5EiFssd_"
      }
    },
    {
      "cell_type": "code",
      "source": [
        "# Eye Length Ratio | length of eye over distance between points 8 and 13\n",
        "def eye_length_ratio():\n",
        "\n",
        "    right_eye_width = calculateDistance(10, 9)\n",
        "    left_eye_width = calculateDistance(12, 11)\n",
        "    face_width = calculateDistance(13, 8)\n",
        "    \n",
        "    # right eye is longer\n",
        "    if right_eye_width >= left_eye_width:\n",
        "      ratio = left_eye_width / face_width\n",
        "    \n",
        "    # left eye is longer\n",
        "    else:\n",
        "      ratio = right_eye_width / face_width\n",
        "    \n",
        "    return float('{0:.3g}'.format(ratio))\n",
        "\n",
        "\n",
        "# Eye Distance Ratio | distance between center of two eyes over width of face\n",
        "def eye_distance_ratio():\n",
        "    eye_distance = calculateDistance(1, 0)\n",
        "    face_width = calculateDistance(8, 13)\n",
        "\n",
        "    ratio = eye_distance / face_width\n",
        "\n",
        "    return float('{0:.3g}'.format(ratio))\n",
        "\n",
        "\n",
        "# Nose Ratio | distance between the nostrils over width of the face\n",
        "def nose_ratio():\n",
        "    nostril_width = calculateDistance(16, 15)\n",
        "    face_width = calculateDistance(21, 20)\n",
        "\n",
        "    ratio = nostril_width / face_width\n",
        "\n",
        "    return float('{0:.3g}'.format(ratio))\n",
        "\n",
        "# Lip Size Ratio | width of the mouth over the height of the mouth\n",
        "def lip_size_ratio():\n",
        "    mouth_width = calculateDistance(3, 2)\n",
        "    mouth_height = calculateDistance(18, 17)\n",
        "\n",
        "    ratio = mouth_width / mouth_height\n",
        "\n",
        "    return float('{0:.3g}'.format(ratio))\n",
        "\n",
        "\n",
        "# Lip Length Ratio | width of the mouth over width of the face\n",
        "def lip_length_ratio():\n",
        "    mouth_width = calculateDistance(3, 2)\n",
        "    face_width = calculateDistance(21, 20)\n",
        "\n",
        "    ratio = mouth_width / face_width\n",
        "\n",
        "    return float('{0:.3g}'.format(ratio))\n",
        "\n",
        "\n",
        "# Eyebrow Length Ratio | width of the eyebrow over width of the face\n",
        "def eyebrow_ratio():\n",
        "    right_eyebrow_width = calculateDistance(5, 4)\n",
        "    left_eyebrow_width = calculateDistance(7, 6)\n",
        "    face_width = calculateDistance(13, 8)\n",
        "\n",
        "    # right eyebrow is longer\n",
        "    if right_eyebrow_width >= left_eyebrow_width:\n",
        "        ratio = right_eyebrow_width / face_width\n",
        "    \n",
        "    # left eyebrow is longer\n",
        "    else:\n",
        "        ratio = left_eyebrow_width / face_width\n",
        "\n",
        "    return float('{0:.3g}'.format(ratio))\n",
        "\n",
        "\n",
        "# Aggressive Ratio | height of the eyes over width of face\n",
        "def aggressive_ratio():\n",
        "    eye_height = calculateDistance(19, 10)\n",
        "    face_width = calculateDistance(21, 20)\n",
        "\n",
        "    ratio = eye_height / face_width\n",
        "\n",
        "    return float('{0:.3g}'.format(ratio))\n",
        "\n",
        "\n",
        "# Euclidian Distance Calculation | Helper Function\n",
        "def calculateDistance(p1, p2):\n",
        "    global points\n",
        "\n",
        "    x1 = float(points.x[p1])\n",
        "    y1 = float(points.y[p1])\n",
        "    x2 = float(points.x[p2])\n",
        "    y2 = float(points.y[p2])\n",
        "\n",
        "    distance = sqrt(pow(x2-x1, 2) + pow(y2-y1, 2))\n",
        "\n",
        "    \n",
        "    return distance\n",
        "\n",
        "\n",
        "# getFeatures returns all features for the current file\n",
        "def getFeatures(sampleId):\n",
        "    featureList = [sampleId, eye_length_ratio(), eye_distance_ratio(), nose_ratio(),\n",
        "                lip_size_ratio(), lip_length_ratio(), eyebrow_ratio(),\n",
        "                aggressive_ratio()]\n",
        "\n",
        "    return featureList"
      ],
      "metadata": {
        "id": "RKVu2MV245y2"
      },
      "execution_count": null,
      "outputs": []
    },
    {
      "cell_type": "markdown",
      "source": [
        "Now iterate over all the files in points_22 to process samples for neutral expression, smile, and anger. The result is a dataframe table (df) . . ."
      ],
      "metadata": {
        "id": "qCYpvvGN5DDu"
      }
    },
    {
      "cell_type": "code",
      "source": [
        "# Output the number of files in points_22\n",
        "files = glob(r'points_22/**/*.pts', recursive=True)\n",
        "# print(\"Total File(s)\", len(files))\n",
        "# print(\"NOTE: only processing samples for natural, smile, and anger expressions\\n\")\n",
        "\n",
        "# Global variables\n",
        "points = []\n",
        "features = []\n",
        "\n",
        "# For all files in points_22\n",
        "for file in files:\n",
        "\n",
        "  # Extract the sampleId (ie. m-001-01)\n",
        "  sampleId = file.split('/')[2].split('.')[0]\n",
        "\n",
        "  # If sample is of Neutral expression, Smile or Anger\n",
        "  if sampleId[-1] in ['1', '2', '3']:\n",
        "\n",
        "    # get data from .pts file\n",
        "    dataframe = pd.DataFrame(pd.read_csv(file))\n",
        "\n",
        "    # build x[] and y[] arrays for this sample\n",
        "    raw_data = dataframe.iloc[2:24]\n",
        "    df = pd.DataFrame(raw_data)\n",
        "    points = df['version: 1'].str.split(' ', expand=True)\n",
        "    points.columns=['x', 'y']\n",
        "    points.reset_index(drop=True, inplace=True)\n",
        "\n",
        "    # get features for this sample and append to features array\n",
        "    features.append(getFeatures(sampleId))\n",
        "\n",
        "# final dataframe for classification training and testing\n",
        "df = pd.DataFrame(features, columns=['Sample ID', 'Eye Lenght Ratio',\n",
        "                                     'Eye Dist Ratio', 'Nose Ratio',\n",
        "                                     'Lip Size Ratio', 'Lip Length Ratio',\n",
        "                                     'Brow Length Ratio', 'Aggressive Ratio'])"
      ],
      "metadata": {
        "id": "YPtSzKZA7U4u"
      },
      "execution_count": null,
      "outputs": []
    },
    {
      "cell_type": "code",
      "source": [
        "# test output from Feature Extraction\n",
        "df"
      ],
      "metadata": {
        "id": "aTBmFjoZWpzd",
        "colab": {
          "base_uri": "https://localhost:8080/",
          "height": 485
        },
        "outputId": "9db3ca2e-4e68-479d-f429-93058ff2de30"
      },
      "execution_count": null,
      "outputs": [
        {
          "output_type": "execute_result",
          "data": {
            "text/plain": [
              "    Sample ID  Eye Lenght Ratio  Eye Dist Ratio  Nose Ratio  Lip Size Ratio  \\\n",
              "0    m-002-01             0.208           0.480       0.135            3.29   \n",
              "1    m-002-02             0.223           0.488       0.136            3.30   \n",
              "2    m-002-03             0.209           0.483       0.134            3.76   \n",
              "3    m-001-02             0.200           0.428       0.147            3.39   \n",
              "4    m-001-03             0.210           0.434       0.155            3.89   \n",
              "..        ...               ...             ...         ...             ...   \n",
              "368  w-056-03             0.233           0.476       0.144            3.06   \n",
              "369  w-057-03             0.225           0.447       0.143            3.00   \n",
              "370  w-058-03             0.192           0.484       0.137            3.87   \n",
              "371  w-059-03             0.228           0.471       0.178            4.40   \n",
              "372  w-060-03             0.212           0.446       0.180            3.72   \n",
              "\n",
              "     Lip Length Ratio  Brow Length Ratio  Aggressive Ratio  \n",
              "0               0.413              0.374             0.982  \n",
              "1               0.486              0.368             0.972  \n",
              "2               0.398              0.370             0.926  \n",
              "3               0.469              0.398             0.955  \n",
              "4               0.456              0.415             0.960  \n",
              "..                ...                ...               ...  \n",
              "368             0.464              0.364             0.972  \n",
              "369             0.437              0.361             0.956  \n",
              "370             0.455              0.366             0.956  \n",
              "371             0.448              0.372             0.918  \n",
              "372             0.492              0.326             1.030  \n",
              "\n",
              "[373 rows x 8 columns]"
            ],
            "text/html": [
              "\n",
              "  <div id=\"df-944bf4f5-eb01-49a0-b2c0-19508444446a\">\n",
              "    <div class=\"colab-df-container\">\n",
              "      <div>\n",
              "<style scoped>\n",
              "    .dataframe tbody tr th:only-of-type {\n",
              "        vertical-align: middle;\n",
              "    }\n",
              "\n",
              "    .dataframe tbody tr th {\n",
              "        vertical-align: top;\n",
              "    }\n",
              "\n",
              "    .dataframe thead th {\n",
              "        text-align: right;\n",
              "    }\n",
              "</style>\n",
              "<table border=\"1\" class=\"dataframe\">\n",
              "  <thead>\n",
              "    <tr style=\"text-align: right;\">\n",
              "      <th></th>\n",
              "      <th>Sample ID</th>\n",
              "      <th>Eye Lenght Ratio</th>\n",
              "      <th>Eye Dist Ratio</th>\n",
              "      <th>Nose Ratio</th>\n",
              "      <th>Lip Size Ratio</th>\n",
              "      <th>Lip Length Ratio</th>\n",
              "      <th>Brow Length Ratio</th>\n",
              "      <th>Aggressive Ratio</th>\n",
              "    </tr>\n",
              "  </thead>\n",
              "  <tbody>\n",
              "    <tr>\n",
              "      <th>0</th>\n",
              "      <td>m-002-01</td>\n",
              "      <td>0.208</td>\n",
              "      <td>0.480</td>\n",
              "      <td>0.135</td>\n",
              "      <td>3.29</td>\n",
              "      <td>0.413</td>\n",
              "      <td>0.374</td>\n",
              "      <td>0.982</td>\n",
              "    </tr>\n",
              "    <tr>\n",
              "      <th>1</th>\n",
              "      <td>m-002-02</td>\n",
              "      <td>0.223</td>\n",
              "      <td>0.488</td>\n",
              "      <td>0.136</td>\n",
              "      <td>3.30</td>\n",
              "      <td>0.486</td>\n",
              "      <td>0.368</td>\n",
              "      <td>0.972</td>\n",
              "    </tr>\n",
              "    <tr>\n",
              "      <th>2</th>\n",
              "      <td>m-002-03</td>\n",
              "      <td>0.209</td>\n",
              "      <td>0.483</td>\n",
              "      <td>0.134</td>\n",
              "      <td>3.76</td>\n",
              "      <td>0.398</td>\n",
              "      <td>0.370</td>\n",
              "      <td>0.926</td>\n",
              "    </tr>\n",
              "    <tr>\n",
              "      <th>3</th>\n",
              "      <td>m-001-02</td>\n",
              "      <td>0.200</td>\n",
              "      <td>0.428</td>\n",
              "      <td>0.147</td>\n",
              "      <td>3.39</td>\n",
              "      <td>0.469</td>\n",
              "      <td>0.398</td>\n",
              "      <td>0.955</td>\n",
              "    </tr>\n",
              "    <tr>\n",
              "      <th>4</th>\n",
              "      <td>m-001-03</td>\n",
              "      <td>0.210</td>\n",
              "      <td>0.434</td>\n",
              "      <td>0.155</td>\n",
              "      <td>3.89</td>\n",
              "      <td>0.456</td>\n",
              "      <td>0.415</td>\n",
              "      <td>0.960</td>\n",
              "    </tr>\n",
              "    <tr>\n",
              "      <th>...</th>\n",
              "      <td>...</td>\n",
              "      <td>...</td>\n",
              "      <td>...</td>\n",
              "      <td>...</td>\n",
              "      <td>...</td>\n",
              "      <td>...</td>\n",
              "      <td>...</td>\n",
              "      <td>...</td>\n",
              "    </tr>\n",
              "    <tr>\n",
              "      <th>368</th>\n",
              "      <td>w-056-03</td>\n",
              "      <td>0.233</td>\n",
              "      <td>0.476</td>\n",
              "      <td>0.144</td>\n",
              "      <td>3.06</td>\n",
              "      <td>0.464</td>\n",
              "      <td>0.364</td>\n",
              "      <td>0.972</td>\n",
              "    </tr>\n",
              "    <tr>\n",
              "      <th>369</th>\n",
              "      <td>w-057-03</td>\n",
              "      <td>0.225</td>\n",
              "      <td>0.447</td>\n",
              "      <td>0.143</td>\n",
              "      <td>3.00</td>\n",
              "      <td>0.437</td>\n",
              "      <td>0.361</td>\n",
              "      <td>0.956</td>\n",
              "    </tr>\n",
              "    <tr>\n",
              "      <th>370</th>\n",
              "      <td>w-058-03</td>\n",
              "      <td>0.192</td>\n",
              "      <td>0.484</td>\n",
              "      <td>0.137</td>\n",
              "      <td>3.87</td>\n",
              "      <td>0.455</td>\n",
              "      <td>0.366</td>\n",
              "      <td>0.956</td>\n",
              "    </tr>\n",
              "    <tr>\n",
              "      <th>371</th>\n",
              "      <td>w-059-03</td>\n",
              "      <td>0.228</td>\n",
              "      <td>0.471</td>\n",
              "      <td>0.178</td>\n",
              "      <td>4.40</td>\n",
              "      <td>0.448</td>\n",
              "      <td>0.372</td>\n",
              "      <td>0.918</td>\n",
              "    </tr>\n",
              "    <tr>\n",
              "      <th>372</th>\n",
              "      <td>w-060-03</td>\n",
              "      <td>0.212</td>\n",
              "      <td>0.446</td>\n",
              "      <td>0.180</td>\n",
              "      <td>3.72</td>\n",
              "      <td>0.492</td>\n",
              "      <td>0.326</td>\n",
              "      <td>1.030</td>\n",
              "    </tr>\n",
              "  </tbody>\n",
              "</table>\n",
              "<p>373 rows × 8 columns</p>\n",
              "</div>\n",
              "      <button class=\"colab-df-convert\" onclick=\"convertToInteractive('df-944bf4f5-eb01-49a0-b2c0-19508444446a')\"\n",
              "              title=\"Convert this dataframe to an interactive table.\"\n",
              "              style=\"display:none;\">\n",
              "        \n",
              "  <svg xmlns=\"http://www.w3.org/2000/svg\" height=\"24px\"viewBox=\"0 0 24 24\"\n",
              "       width=\"24px\">\n",
              "    <path d=\"M0 0h24v24H0V0z\" fill=\"none\"/>\n",
              "    <path d=\"M18.56 5.44l.94 2.06.94-2.06 2.06-.94-2.06-.94-.94-2.06-.94 2.06-2.06.94zm-11 1L8.5 8.5l.94-2.06 2.06-.94-2.06-.94L8.5 2.5l-.94 2.06-2.06.94zm10 10l.94 2.06.94-2.06 2.06-.94-2.06-.94-.94-2.06-.94 2.06-2.06.94z\"/><path d=\"M17.41 7.96l-1.37-1.37c-.4-.4-.92-.59-1.43-.59-.52 0-1.04.2-1.43.59L10.3 9.45l-7.72 7.72c-.78.78-.78 2.05 0 2.83L4 21.41c.39.39.9.59 1.41.59.51 0 1.02-.2 1.41-.59l7.78-7.78 2.81-2.81c.8-.78.8-2.07 0-2.86zM5.41 20L4 18.59l7.72-7.72 1.47 1.35L5.41 20z\"/>\n",
              "  </svg>\n",
              "      </button>\n",
              "      \n",
              "  <style>\n",
              "    .colab-df-container {\n",
              "      display:flex;\n",
              "      flex-wrap:wrap;\n",
              "      gap: 12px;\n",
              "    }\n",
              "\n",
              "    .colab-df-convert {\n",
              "      background-color: #E8F0FE;\n",
              "      border: none;\n",
              "      border-radius: 50%;\n",
              "      cursor: pointer;\n",
              "      display: none;\n",
              "      fill: #1967D2;\n",
              "      height: 32px;\n",
              "      padding: 0 0 0 0;\n",
              "      width: 32px;\n",
              "    }\n",
              "\n",
              "    .colab-df-convert:hover {\n",
              "      background-color: #E2EBFA;\n",
              "      box-shadow: 0px 1px 2px rgba(60, 64, 67, 0.3), 0px 1px 3px 1px rgba(60, 64, 67, 0.15);\n",
              "      fill: #174EA6;\n",
              "    }\n",
              "\n",
              "    [theme=dark] .colab-df-convert {\n",
              "      background-color: #3B4455;\n",
              "      fill: #D2E3FC;\n",
              "    }\n",
              "\n",
              "    [theme=dark] .colab-df-convert:hover {\n",
              "      background-color: #434B5C;\n",
              "      box-shadow: 0px 1px 3px 1px rgba(0, 0, 0, 0.15);\n",
              "      filter: drop-shadow(0px 1px 2px rgba(0, 0, 0, 0.3));\n",
              "      fill: #FFFFFF;\n",
              "    }\n",
              "  </style>\n",
              "\n",
              "      <script>\n",
              "        const buttonEl =\n",
              "          document.querySelector('#df-944bf4f5-eb01-49a0-b2c0-19508444446a button.colab-df-convert');\n",
              "        buttonEl.style.display =\n",
              "          google.colab.kernel.accessAllowed ? 'block' : 'none';\n",
              "\n",
              "        async function convertToInteractive(key) {\n",
              "          const element = document.querySelector('#df-944bf4f5-eb01-49a0-b2c0-19508444446a');\n",
              "          const dataTable =\n",
              "            await google.colab.kernel.invokeFunction('convertToInteractive',\n",
              "                                                     [key], {});\n",
              "          if (!dataTable) return;\n",
              "\n",
              "          const docLinkHtml = 'Like what you see? Visit the ' +\n",
              "            '<a target=\"_blank\" href=https://colab.research.google.com/notebooks/data_table.ipynb>data table notebook</a>'\n",
              "            + ' to learn more about interactive tables.';\n",
              "          element.innerHTML = '';\n",
              "          dataTable['output_type'] = 'display_data';\n",
              "          await google.colab.output.renderOutput(dataTable, element);\n",
              "          const docLink = document.createElement('div');\n",
              "          docLink.innerHTML = docLinkHtml;\n",
              "          element.appendChild(docLink);\n",
              "        }\n",
              "      </script>\n",
              "    </div>\n",
              "  </div>\n",
              "  "
            ]
          },
          "metadata": {},
          "execution_count": 6
        }
      ]
    },
    {
      "cell_type": "markdown",
      "source": [
        "# Classifiers\n",
        "---\n",
        "The following classifiers are trained and tested, and the output of each classifier is compared. . ."
      ],
      "metadata": {
        "id": "dEBTu-1twzxL"
      }
    },
    {
      "cell_type": "markdown",
      "source": [
        "## K-Nearest Neighbors (KNN)"
      ],
      "metadata": {
        "id": "Payg90inW5HU"
      }
    },
    {
      "cell_type": "markdown",
      "source": [
        ""
      ],
      "metadata": {
        "id": "a0IDggNrdLW0"
      }
    },
    {
      "cell_type": "code",
      "source": [
        "from sklearn.datasets import load_iris\n",
        "from sklearn.model_selection import train_test_split\n",
        "from sklearn.naive_bayes import GaussianNB\n",
        "X, y = load_iris(return_X_y=True)\n",
        "X_train, X_test, y_train, y_test = train_test_split(X, y, test_size=0.5, random_state=0)\n",
        "gnb = GaussianNB()\n",
        "y_pred = gnb.fit(X_train, y_train).predict(X_test)\n",
        "print(\"Number of mislabeled points out of a total %d points : %d\"\n",
        "      % (X_test.shape[0], (y_test != y_pred).sum()))"
      ],
      "metadata": {
        "id": "sSrHKZpgW5HZ",
        "colab": {
          "base_uri": "https://localhost:8080/"
        },
        "outputId": "c3671e0c-7d00-4987-fa1e-719f80450500"
      },
      "execution_count": null,
      "outputs": [
        {
          "output_type": "stream",
          "name": "stdout",
          "text": [
            "Number of mislabeled points out of a total 75 points : 4\n"
          ]
        }
      ]
    },
    {
      "cell_type": "code",
      "source": [
        "from sklearn.neighbors import KNeighborsClassifier\n",
        "from sklearn.model_selection import train_test_split, GridSearchCV\n",
        "from sklearn.preprocessing import StandardScaler\n",
        "from sklearn.metrics import classification_report, confusion_matrix, accuracy_score, ConfusionMatrixDisplay\n",
        "from sklearn.pipeline import Pipeline\n",
        "import matplotlib.pyplot as plt"
      ],
      "metadata": {
        "id": "GhQBWK0B1xnw"
      },
      "execution_count": null,
      "outputs": []
    },
    {
      "cell_type": "code",
      "source": [
        "df"
      ],
      "metadata": {
        "id": "r2MQOfZa57g4",
        "colab": {
          "base_uri": "https://localhost:8080/",
          "height": 687
        },
        "outputId": "98f724a1-1e1e-47ec-a3d1-ae357e9c93ef"
      },
      "execution_count": null,
      "outputs": [
        {
          "output_type": "execute_result",
          "data": {
            "text/plain": [
              "    Sample ID  Eye Lenght Ratio  Eye Dist Ratio  Nose Ratio  Lip Size Ratio  \\\n",
              "0    m-002-01             0.208           0.480       0.135            3.29   \n",
              "1    m-002-02             0.223           0.488       0.136            3.30   \n",
              "2    m-002-03             0.209           0.483       0.134            3.76   \n",
              "3    m-001-02             0.200           0.428       0.147            3.39   \n",
              "4    m-001-03             0.210           0.434       0.155            3.89   \n",
              "..        ...               ...             ...         ...             ...   \n",
              "368  w-056-03             0.233           0.476       0.144            3.06   \n",
              "369  w-057-03             0.225           0.447       0.143            3.00   \n",
              "370  w-058-03             0.192           0.484       0.137            3.87   \n",
              "371  w-059-03             0.228           0.471       0.178            4.40   \n",
              "372  w-060-03             0.212           0.446       0.180            3.72   \n",
              "\n",
              "     Lip Length Ratio  Brow Length Ratio  Aggressive Ratio  \n",
              "0               0.413              0.374             0.982  \n",
              "1               0.486              0.368             0.972  \n",
              "2               0.398              0.370             0.926  \n",
              "3               0.469              0.398             0.955  \n",
              "4               0.456              0.415             0.960  \n",
              "..                ...                ...               ...  \n",
              "368             0.464              0.364             0.972  \n",
              "369             0.437              0.361             0.956  \n",
              "370             0.455              0.366             0.956  \n",
              "371             0.448              0.372             0.918  \n",
              "372             0.492              0.326             1.030  \n",
              "\n",
              "[373 rows x 8 columns]"
            ],
            "text/html": [
              "\n",
              "  <div id=\"df-8c527235-8afa-4363-ac9f-480102390e68\">\n",
              "    <div class=\"colab-df-container\">\n",
              "      <div>\n",
              "<style scoped>\n",
              "    .dataframe tbody tr th:only-of-type {\n",
              "        vertical-align: middle;\n",
              "    }\n",
              "\n",
              "    .dataframe tbody tr th {\n",
              "        vertical-align: top;\n",
              "    }\n",
              "\n",
              "    .dataframe thead th {\n",
              "        text-align: right;\n",
              "    }\n",
              "</style>\n",
              "<table border=\"1\" class=\"dataframe\">\n",
              "  <thead>\n",
              "    <tr style=\"text-align: right;\">\n",
              "      <th></th>\n",
              "      <th>Sample ID</th>\n",
              "      <th>Eye Lenght Ratio</th>\n",
              "      <th>Eye Dist Ratio</th>\n",
              "      <th>Nose Ratio</th>\n",
              "      <th>Lip Size Ratio</th>\n",
              "      <th>Lip Length Ratio</th>\n",
              "      <th>Brow Length Ratio</th>\n",
              "      <th>Aggressive Ratio</th>\n",
              "    </tr>\n",
              "  </thead>\n",
              "  <tbody>\n",
              "    <tr>\n",
              "      <th>0</th>\n",
              "      <td>m-002-01</td>\n",
              "      <td>0.208</td>\n",
              "      <td>0.480</td>\n",
              "      <td>0.135</td>\n",
              "      <td>3.29</td>\n",
              "      <td>0.413</td>\n",
              "      <td>0.374</td>\n",
              "      <td>0.982</td>\n",
              "    </tr>\n",
              "    <tr>\n",
              "      <th>1</th>\n",
              "      <td>m-002-02</td>\n",
              "      <td>0.223</td>\n",
              "      <td>0.488</td>\n",
              "      <td>0.136</td>\n",
              "      <td>3.30</td>\n",
              "      <td>0.486</td>\n",
              "      <td>0.368</td>\n",
              "      <td>0.972</td>\n",
              "    </tr>\n",
              "    <tr>\n",
              "      <th>2</th>\n",
              "      <td>m-002-03</td>\n",
              "      <td>0.209</td>\n",
              "      <td>0.483</td>\n",
              "      <td>0.134</td>\n",
              "      <td>3.76</td>\n",
              "      <td>0.398</td>\n",
              "      <td>0.370</td>\n",
              "      <td>0.926</td>\n",
              "    </tr>\n",
              "    <tr>\n",
              "      <th>3</th>\n",
              "      <td>m-001-02</td>\n",
              "      <td>0.200</td>\n",
              "      <td>0.428</td>\n",
              "      <td>0.147</td>\n",
              "      <td>3.39</td>\n",
              "      <td>0.469</td>\n",
              "      <td>0.398</td>\n",
              "      <td>0.955</td>\n",
              "    </tr>\n",
              "    <tr>\n",
              "      <th>4</th>\n",
              "      <td>m-001-03</td>\n",
              "      <td>0.210</td>\n",
              "      <td>0.434</td>\n",
              "      <td>0.155</td>\n",
              "      <td>3.89</td>\n",
              "      <td>0.456</td>\n",
              "      <td>0.415</td>\n",
              "      <td>0.960</td>\n",
              "    </tr>\n",
              "    <tr>\n",
              "      <th>...</th>\n",
              "      <td>...</td>\n",
              "      <td>...</td>\n",
              "      <td>...</td>\n",
              "      <td>...</td>\n",
              "      <td>...</td>\n",
              "      <td>...</td>\n",
              "      <td>...</td>\n",
              "      <td>...</td>\n",
              "    </tr>\n",
              "    <tr>\n",
              "      <th>368</th>\n",
              "      <td>w-056-03</td>\n",
              "      <td>0.233</td>\n",
              "      <td>0.476</td>\n",
              "      <td>0.144</td>\n",
              "      <td>3.06</td>\n",
              "      <td>0.464</td>\n",
              "      <td>0.364</td>\n",
              "      <td>0.972</td>\n",
              "    </tr>\n",
              "    <tr>\n",
              "      <th>369</th>\n",
              "      <td>w-057-03</td>\n",
              "      <td>0.225</td>\n",
              "      <td>0.447</td>\n",
              "      <td>0.143</td>\n",
              "      <td>3.00</td>\n",
              "      <td>0.437</td>\n",
              "      <td>0.361</td>\n",
              "      <td>0.956</td>\n",
              "    </tr>\n",
              "    <tr>\n",
              "      <th>370</th>\n",
              "      <td>w-058-03</td>\n",
              "      <td>0.192</td>\n",
              "      <td>0.484</td>\n",
              "      <td>0.137</td>\n",
              "      <td>3.87</td>\n",
              "      <td>0.455</td>\n",
              "      <td>0.366</td>\n",
              "      <td>0.956</td>\n",
              "    </tr>\n",
              "    <tr>\n",
              "      <th>371</th>\n",
              "      <td>w-059-03</td>\n",
              "      <td>0.228</td>\n",
              "      <td>0.471</td>\n",
              "      <td>0.178</td>\n",
              "      <td>4.40</td>\n",
              "      <td>0.448</td>\n",
              "      <td>0.372</td>\n",
              "      <td>0.918</td>\n",
              "    </tr>\n",
              "    <tr>\n",
              "      <th>372</th>\n",
              "      <td>w-060-03</td>\n",
              "      <td>0.212</td>\n",
              "      <td>0.446</td>\n",
              "      <td>0.180</td>\n",
              "      <td>3.72</td>\n",
              "      <td>0.492</td>\n",
              "      <td>0.326</td>\n",
              "      <td>1.030</td>\n",
              "    </tr>\n",
              "  </tbody>\n",
              "</table>\n",
              "<p>373 rows × 8 columns</p>\n",
              "</div>\n",
              "      <button class=\"colab-df-convert\" onclick=\"convertToInteractive('df-8c527235-8afa-4363-ac9f-480102390e68')\"\n",
              "              title=\"Convert this dataframe to an interactive table.\"\n",
              "              style=\"display:none;\">\n",
              "        \n",
              "  <svg xmlns=\"http://www.w3.org/2000/svg\" height=\"24px\"viewBox=\"0 0 24 24\"\n",
              "       width=\"24px\">\n",
              "    <path d=\"M0 0h24v24H0V0z\" fill=\"none\"/>\n",
              "    <path d=\"M18.56 5.44l.94 2.06.94-2.06 2.06-.94-2.06-.94-.94-2.06-.94 2.06-2.06.94zm-11 1L8.5 8.5l.94-2.06 2.06-.94-2.06-.94L8.5 2.5l-.94 2.06-2.06.94zm10 10l.94 2.06.94-2.06 2.06-.94-2.06-.94-.94-2.06-.94 2.06-2.06.94z\"/><path d=\"M17.41 7.96l-1.37-1.37c-.4-.4-.92-.59-1.43-.59-.52 0-1.04.2-1.43.59L10.3 9.45l-7.72 7.72c-.78.78-.78 2.05 0 2.83L4 21.41c.39.39.9.59 1.41.59.51 0 1.02-.2 1.41-.59l7.78-7.78 2.81-2.81c.8-.78.8-2.07 0-2.86zM5.41 20L4 18.59l7.72-7.72 1.47 1.35L5.41 20z\"/>\n",
              "  </svg>\n",
              "      </button>\n",
              "      \n",
              "  <style>\n",
              "    .colab-df-container {\n",
              "      display:flex;\n",
              "      flex-wrap:wrap;\n",
              "      gap: 12px;\n",
              "    }\n",
              "\n",
              "    .colab-df-convert {\n",
              "      background-color: #E8F0FE;\n",
              "      border: none;\n",
              "      border-radius: 50%;\n",
              "      cursor: pointer;\n",
              "      display: none;\n",
              "      fill: #1967D2;\n",
              "      height: 32px;\n",
              "      padding: 0 0 0 0;\n",
              "      width: 32px;\n",
              "    }\n",
              "\n",
              "    .colab-df-convert:hover {\n",
              "      background-color: #E2EBFA;\n",
              "      box-shadow: 0px 1px 2px rgba(60, 64, 67, 0.3), 0px 1px 3px 1px rgba(60, 64, 67, 0.15);\n",
              "      fill: #174EA6;\n",
              "    }\n",
              "\n",
              "    [theme=dark] .colab-df-convert {\n",
              "      background-color: #3B4455;\n",
              "      fill: #D2E3FC;\n",
              "    }\n",
              "\n",
              "    [theme=dark] .colab-df-convert:hover {\n",
              "      background-color: #434B5C;\n",
              "      box-shadow: 0px 1px 3px 1px rgba(0, 0, 0, 0.15);\n",
              "      filter: drop-shadow(0px 1px 2px rgba(0, 0, 0, 0.3));\n",
              "      fill: #FFFFFF;\n",
              "    }\n",
              "  </style>\n",
              "\n",
              "      <script>\n",
              "        const buttonEl =\n",
              "          document.querySelector('#df-8c527235-8afa-4363-ac9f-480102390e68 button.colab-df-convert');\n",
              "        buttonEl.style.display =\n",
              "          google.colab.kernel.accessAllowed ? 'block' : 'none';\n",
              "\n",
              "        async function convertToInteractive(key) {\n",
              "          const element = document.querySelector('#df-8c527235-8afa-4363-ac9f-480102390e68');\n",
              "          const dataTable =\n",
              "            await google.colab.kernel.invokeFunction('convertToInteractive',\n",
              "                                                     [key], {});\n",
              "          if (!dataTable) return;\n",
              "\n",
              "          const docLinkHtml = 'Like what you see? Visit the ' +\n",
              "            '<a target=\"_blank\" href=https://colab.research.google.com/notebooks/data_table.ipynb>data table notebook</a>'\n",
              "            + ' to learn more about interactive tables.';\n",
              "          element.innerHTML = '';\n",
              "          dataTable['output_type'] = 'display_data';\n",
              "          await google.colab.output.renderOutput(dataTable, element);\n",
              "          const docLink = document.createElement('div');\n",
              "          docLink.innerHTML = docLinkHtml;\n",
              "          element.appendChild(docLink);\n",
              "        }\n",
              "      </script>\n",
              "    </div>\n",
              "  </div>\n",
              "  "
            ]
          },
          "metadata": {},
          "execution_count": 65
        }
      ]
    },
    {
      "cell_type": "code",
      "source": [
        "# creating new data formatting set for SVM\n",
        "knn_X_data =  df.iloc[:, 1:8]\n",
        "\n",
        "gender_x_data_list = []\n",
        "\n",
        "for gender_x_data in df['Sample ID']:\n",
        "    thisXgenderData = \"\"\n",
        "    if gender_x_data.__contains__('-01'):\n",
        "        thisXgenderData = '1'\n",
        "    elif gender_x_data.__contains__('-02'):\n",
        "        thisXgenderData = '2'\n",
        "    elif gender_x_data.__contains__('-03'):\n",
        "        thisXgenderData = '3'\n",
        "    \n",
        "    gender_x_data_list.append(thisXgenderData)\n",
        "    \n",
        "df_for_knn = pd.DataFrame(gender_x_data_list,  columns =['Expression'])\n",
        "xDataKNN = pd.concat([df_for_knn, knn_X_data], axis=1)\n",
        "xDataKNN"
      ],
      "metadata": {
        "id": "At7oZ-Ldl5OC",
        "colab": {
          "base_uri": "https://localhost:8080/",
          "height": 517
        },
        "outputId": "2e0b1588-0bf6-4ce0-a685-8231782b11d3"
      },
      "execution_count": null,
      "outputs": [
        {
          "output_type": "execute_result",
          "data": {
            "text/plain": [
              "    Expression  Eye Lenght Ratio  Eye Dist Ratio  Nose Ratio  Lip Size Ratio  \\\n",
              "0            1             0.208           0.480       0.135            3.29   \n",
              "1            2             0.223           0.488       0.136            3.30   \n",
              "2            3             0.209           0.483       0.134            3.76   \n",
              "3            2             0.200           0.428       0.147            3.39   \n",
              "4            3             0.210           0.434       0.155            3.89   \n",
              "..         ...               ...             ...         ...             ...   \n",
              "368          3             0.233           0.476       0.144            3.06   \n",
              "369          3             0.225           0.447       0.143            3.00   \n",
              "370          3             0.192           0.484       0.137            3.87   \n",
              "371          3             0.228           0.471       0.178            4.40   \n",
              "372          3             0.212           0.446       0.180            3.72   \n",
              "\n",
              "     Lip Length Ratio  Brow Length Ratio  Aggressive Ratio  \n",
              "0               0.413              0.374             0.982  \n",
              "1               0.486              0.368             0.972  \n",
              "2               0.398              0.370             0.926  \n",
              "3               0.469              0.398             0.955  \n",
              "4               0.456              0.415             0.960  \n",
              "..                ...                ...               ...  \n",
              "368             0.464              0.364             0.972  \n",
              "369             0.437              0.361             0.956  \n",
              "370             0.455              0.366             0.956  \n",
              "371             0.448              0.372             0.918  \n",
              "372             0.492              0.326             1.030  \n",
              "\n",
              "[373 rows x 8 columns]"
            ],
            "text/html": [
              "\n",
              "  <div id=\"df-13d59e37-a4e2-4009-a0b8-07d1f25cf051\">\n",
              "    <div class=\"colab-df-container\">\n",
              "      <div>\n",
              "<style scoped>\n",
              "    .dataframe tbody tr th:only-of-type {\n",
              "        vertical-align: middle;\n",
              "    }\n",
              "\n",
              "    .dataframe tbody tr th {\n",
              "        vertical-align: top;\n",
              "    }\n",
              "\n",
              "    .dataframe thead th {\n",
              "        text-align: right;\n",
              "    }\n",
              "</style>\n",
              "<table border=\"1\" class=\"dataframe\">\n",
              "  <thead>\n",
              "    <tr style=\"text-align: right;\">\n",
              "      <th></th>\n",
              "      <th>Expression</th>\n",
              "      <th>Eye Lenght Ratio</th>\n",
              "      <th>Eye Dist Ratio</th>\n",
              "      <th>Nose Ratio</th>\n",
              "      <th>Lip Size Ratio</th>\n",
              "      <th>Lip Length Ratio</th>\n",
              "      <th>Brow Length Ratio</th>\n",
              "      <th>Aggressive Ratio</th>\n",
              "    </tr>\n",
              "  </thead>\n",
              "  <tbody>\n",
              "    <tr>\n",
              "      <th>0</th>\n",
              "      <td>1</td>\n",
              "      <td>0.208</td>\n",
              "      <td>0.480</td>\n",
              "      <td>0.135</td>\n",
              "      <td>3.29</td>\n",
              "      <td>0.413</td>\n",
              "      <td>0.374</td>\n",
              "      <td>0.982</td>\n",
              "    </tr>\n",
              "    <tr>\n",
              "      <th>1</th>\n",
              "      <td>2</td>\n",
              "      <td>0.223</td>\n",
              "      <td>0.488</td>\n",
              "      <td>0.136</td>\n",
              "      <td>3.30</td>\n",
              "      <td>0.486</td>\n",
              "      <td>0.368</td>\n",
              "      <td>0.972</td>\n",
              "    </tr>\n",
              "    <tr>\n",
              "      <th>2</th>\n",
              "      <td>3</td>\n",
              "      <td>0.209</td>\n",
              "      <td>0.483</td>\n",
              "      <td>0.134</td>\n",
              "      <td>3.76</td>\n",
              "      <td>0.398</td>\n",
              "      <td>0.370</td>\n",
              "      <td>0.926</td>\n",
              "    </tr>\n",
              "    <tr>\n",
              "      <th>3</th>\n",
              "      <td>2</td>\n",
              "      <td>0.200</td>\n",
              "      <td>0.428</td>\n",
              "      <td>0.147</td>\n",
              "      <td>3.39</td>\n",
              "      <td>0.469</td>\n",
              "      <td>0.398</td>\n",
              "      <td>0.955</td>\n",
              "    </tr>\n",
              "    <tr>\n",
              "      <th>4</th>\n",
              "      <td>3</td>\n",
              "      <td>0.210</td>\n",
              "      <td>0.434</td>\n",
              "      <td>0.155</td>\n",
              "      <td>3.89</td>\n",
              "      <td>0.456</td>\n",
              "      <td>0.415</td>\n",
              "      <td>0.960</td>\n",
              "    </tr>\n",
              "    <tr>\n",
              "      <th>...</th>\n",
              "      <td>...</td>\n",
              "      <td>...</td>\n",
              "      <td>...</td>\n",
              "      <td>...</td>\n",
              "      <td>...</td>\n",
              "      <td>...</td>\n",
              "      <td>...</td>\n",
              "      <td>...</td>\n",
              "    </tr>\n",
              "    <tr>\n",
              "      <th>368</th>\n",
              "      <td>3</td>\n",
              "      <td>0.233</td>\n",
              "      <td>0.476</td>\n",
              "      <td>0.144</td>\n",
              "      <td>3.06</td>\n",
              "      <td>0.464</td>\n",
              "      <td>0.364</td>\n",
              "      <td>0.972</td>\n",
              "    </tr>\n",
              "    <tr>\n",
              "      <th>369</th>\n",
              "      <td>3</td>\n",
              "      <td>0.225</td>\n",
              "      <td>0.447</td>\n",
              "      <td>0.143</td>\n",
              "      <td>3.00</td>\n",
              "      <td>0.437</td>\n",
              "      <td>0.361</td>\n",
              "      <td>0.956</td>\n",
              "    </tr>\n",
              "    <tr>\n",
              "      <th>370</th>\n",
              "      <td>3</td>\n",
              "      <td>0.192</td>\n",
              "      <td>0.484</td>\n",
              "      <td>0.137</td>\n",
              "      <td>3.87</td>\n",
              "      <td>0.455</td>\n",
              "      <td>0.366</td>\n",
              "      <td>0.956</td>\n",
              "    </tr>\n",
              "    <tr>\n",
              "      <th>371</th>\n",
              "      <td>3</td>\n",
              "      <td>0.228</td>\n",
              "      <td>0.471</td>\n",
              "      <td>0.178</td>\n",
              "      <td>4.40</td>\n",
              "      <td>0.448</td>\n",
              "      <td>0.372</td>\n",
              "      <td>0.918</td>\n",
              "    </tr>\n",
              "    <tr>\n",
              "      <th>372</th>\n",
              "      <td>3</td>\n",
              "      <td>0.212</td>\n",
              "      <td>0.446</td>\n",
              "      <td>0.180</td>\n",
              "      <td>3.72</td>\n",
              "      <td>0.492</td>\n",
              "      <td>0.326</td>\n",
              "      <td>1.030</td>\n",
              "    </tr>\n",
              "  </tbody>\n",
              "</table>\n",
              "<p>373 rows × 8 columns</p>\n",
              "</div>\n",
              "      <button class=\"colab-df-convert\" onclick=\"convertToInteractive('df-13d59e37-a4e2-4009-a0b8-07d1f25cf051')\"\n",
              "              title=\"Convert this dataframe to an interactive table.\"\n",
              "              style=\"display:none;\">\n",
              "        \n",
              "  <svg xmlns=\"http://www.w3.org/2000/svg\" height=\"24px\"viewBox=\"0 0 24 24\"\n",
              "       width=\"24px\">\n",
              "    <path d=\"M0 0h24v24H0V0z\" fill=\"none\"/>\n",
              "    <path d=\"M18.56 5.44l.94 2.06.94-2.06 2.06-.94-2.06-.94-.94-2.06-.94 2.06-2.06.94zm-11 1L8.5 8.5l.94-2.06 2.06-.94-2.06-.94L8.5 2.5l-.94 2.06-2.06.94zm10 10l.94 2.06.94-2.06 2.06-.94-2.06-.94-.94-2.06-.94 2.06-2.06.94z\"/><path d=\"M17.41 7.96l-1.37-1.37c-.4-.4-.92-.59-1.43-.59-.52 0-1.04.2-1.43.59L10.3 9.45l-7.72 7.72c-.78.78-.78 2.05 0 2.83L4 21.41c.39.39.9.59 1.41.59.51 0 1.02-.2 1.41-.59l7.78-7.78 2.81-2.81c.8-.78.8-2.07 0-2.86zM5.41 20L4 18.59l7.72-7.72 1.47 1.35L5.41 20z\"/>\n",
              "  </svg>\n",
              "      </button>\n",
              "      \n",
              "  <style>\n",
              "    .colab-df-container {\n",
              "      display:flex;\n",
              "      flex-wrap:wrap;\n",
              "      gap: 12px;\n",
              "    }\n",
              "\n",
              "    .colab-df-convert {\n",
              "      background-color: #E8F0FE;\n",
              "      border: none;\n",
              "      border-radius: 50%;\n",
              "      cursor: pointer;\n",
              "      display: none;\n",
              "      fill: #1967D2;\n",
              "      height: 32px;\n",
              "      padding: 0 0 0 0;\n",
              "      width: 32px;\n",
              "    }\n",
              "\n",
              "    .colab-df-convert:hover {\n",
              "      background-color: #E2EBFA;\n",
              "      box-shadow: 0px 1px 2px rgba(60, 64, 67, 0.3), 0px 1px 3px 1px rgba(60, 64, 67, 0.15);\n",
              "      fill: #174EA6;\n",
              "    }\n",
              "\n",
              "    [theme=dark] .colab-df-convert {\n",
              "      background-color: #3B4455;\n",
              "      fill: #D2E3FC;\n",
              "    }\n",
              "\n",
              "    [theme=dark] .colab-df-convert:hover {\n",
              "      background-color: #434B5C;\n",
              "      box-shadow: 0px 1px 3px 1px rgba(0, 0, 0, 0.15);\n",
              "      filter: drop-shadow(0px 1px 2px rgba(0, 0, 0, 0.3));\n",
              "      fill: #FFFFFF;\n",
              "    }\n",
              "  </style>\n",
              "\n",
              "      <script>\n",
              "        const buttonEl =\n",
              "          document.querySelector('#df-13d59e37-a4e2-4009-a0b8-07d1f25cf051 button.colab-df-convert');\n",
              "        buttonEl.style.display =\n",
              "          google.colab.kernel.accessAllowed ? 'block' : 'none';\n",
              "\n",
              "        async function convertToInteractive(key) {\n",
              "          const element = document.querySelector('#df-13d59e37-a4e2-4009-a0b8-07d1f25cf051');\n",
              "          const dataTable =\n",
              "            await google.colab.kernel.invokeFunction('convertToInteractive',\n",
              "                                                     [key], {});\n",
              "          if (!dataTable) return;\n",
              "\n",
              "          const docLinkHtml = 'Like what you see? Visit the ' +\n",
              "            '<a target=\"_blank\" href=https://colab.research.google.com/notebooks/data_table.ipynb>data table notebook</a>'\n",
              "            + ' to learn more about interactive tables.';\n",
              "          element.innerHTML = '';\n",
              "          dataTable['output_type'] = 'display_data';\n",
              "          await google.colab.output.renderOutput(dataTable, element);\n",
              "          const docLink = document.createElement('div');\n",
              "          docLink.innerHTML = docLinkHtml;\n",
              "          element.appendChild(docLink);\n",
              "        }\n",
              "      </script>\n",
              "    </div>\n",
              "  </div>\n",
              "  "
            ]
          },
          "metadata": {},
          "execution_count": 66
        }
      ]
    },
    {
      "cell_type": "code",
      "source": [
        "# iloc[rows, cols]\n",
        "x_prime_knn =  xDataKNN.iloc[:, 0:8]\n",
        "x_prime_knn = x_prime_knn.reset_index(drop=True)\n",
        "\n",
        "y_data_knn = x_prime_knn.iloc[:, 0:1]\n",
        "y_data_knn = y_data_knn.reset_index(drop=True)"
      ],
      "metadata": {
        "id": "Rf3d0etR5E7Q"
      },
      "execution_count": null,
      "outputs": []
    },
    {
      "cell_type": "code",
      "source": [
        "# Dividing data. 20% test data\n",
        "X_train, X_test, y_train, y_test = train_test_split(x_prime_knn, y_data_knn, test_size = 0.20)"
      ],
      "metadata": {
        "id": "8GN48-IZ5pgE"
      },
      "execution_count": null,
      "outputs": []
    },
    {
      "cell_type": "code",
      "source": [
        "# Feature scaling\n",
        "scaler = StandardScaler()\n",
        "scaler.fit(X_train)\n",
        "\n",
        "X_train = scaler.transform(X_train)\n",
        "X_test = scaler.transform(X_test)"
      ],
      "metadata": {
        "id": "YKASw2Ui9RzL"
      },
      "execution_count": null,
      "outputs": []
    },
    {
      "cell_type": "code",
      "source": [
        "# Training and predicting\n",
        "classifier = KNeighborsClassifier(n_neighbors = 8)\n",
        "classifier.fit(X_train, y_train)\n",
        "\n",
        "# Predictions on test data\n",
        "pred = classifier.predict(X_test)\n",
        "\n",
        "print(confusion_matrix(y_test, pred))\n",
        "print(classification_report(y_test, pred))"
      ],
      "metadata": {
        "id": "9JrkjBjN902P",
        "colab": {
          "base_uri": "https://localhost:8080/"
        },
        "outputId": "95dce8a3-b3c1-4a31-c62a-e98e759a1a0f"
      },
      "execution_count": null,
      "outputs": [
        {
          "output_type": "stream",
          "name": "stdout",
          "text": [
            "[[22  2  0]\n",
            " [ 3 30  1]\n",
            " [ 0  0 17]]\n",
            "              precision    recall  f1-score   support\n",
            "\n",
            "           1       0.88      0.92      0.90        24\n",
            "           2       0.94      0.88      0.91        34\n",
            "           3       0.94      1.00      0.97        17\n",
            "\n",
            "    accuracy                           0.92        75\n",
            "   macro avg       0.92      0.93      0.93        75\n",
            "weighted avg       0.92      0.92      0.92        75\n",
            "\n"
          ]
        },
        {
          "output_type": "stream",
          "name": "stderr",
          "text": [
            "/usr/local/lib/python3.7/dist-packages/sklearn/neighbors/_classification.py:198: DataConversionWarning: A column-vector y was passed when a 1d array was expected. Please change the shape of y to (n_samples,), for example using ravel().\n",
            "  return self._fit(X, y)\n"
          ]
        }
      ]
    },
    {
      "cell_type": "code",
      "source": [
        "# Plot the confusion matrix\n",
        "fig, ax = plt.subplots(figsize=(12, 8))\n",
        "# Create the matrix\n",
        "cm = confusion_matrix(y_test, pred)\n",
        "cmp = ConfusionMatrixDisplay(cm, display_labels=['Natural', 'Smile', 'Anger'])\n",
        "cmp.plot(ax=ax)\n",
        "\n",
        "plt.show();"
      ],
      "metadata": {
        "colab": {
          "base_uri": "https://localhost:8080/",
          "height": 54
        },
        "id": "ZNwLvdBoMmFu",
        "outputId": "a10902d8-f3bf-4091-e1ee-75606cbb53db"
      },
      "execution_count": null,
      "outputs": [
        {
          "output_type": "display_data",
          "data": {
            "text/plain": [
              "<Figure size 864x576 with 2 Axes>"
            ],
            "image/png": "[encoded data removed]"
          },
          "metadata": {
            "needs_background": "light"
          }
        }
      ]
    },
    {
      "cell_type": "code",
      "source": [
        "# Training and predicting\n",
        "classifier = KNeighborsClassifier(n_neighbors = 8)\n",
        "classifier.fit(X_train, y_train)\n",
        "\n",
        "# Predictions on test data\n",
        "pred = classifier.predict(X_test)\n",
        "\n",
        "print(confusion_matrix(y_test, pred))\n",
        "print(classification_report(y_test, pred))"
      ],
      "metadata": {
        "colab": {
          "base_uri": "https://localhost:8080/"
        },
        "outputId": "9b825455-dbb2-412c-e95c-eec8add4cd8e",
        "id": "HUvQNpwFMqN0"
      },
      "execution_count": null,
      "outputs": [
        {
          "output_type": "stream",
          "name": "stdout",
          "text": [
            "[[22  2  0]\n",
            " [ 3 30  1]\n",
            " [ 0  0 17]]\n",
            "              precision    recall  f1-score   support\n",
            "\n",
            "           1       0.88      0.92      0.90        24\n",
            "           2       0.94      0.88      0.91        34\n",
            "           3       0.94      1.00      0.97        17\n",
            "\n",
            "    accuracy                           0.92        75\n",
            "   macro avg       0.92      0.93      0.93        75\n",
            "weighted avg       0.92      0.92      0.92        75\n",
            "\n"
          ]
        },
        {
          "output_type": "stream",
          "name": "stderr",
          "text": [
            "/usr/local/lib/python3.7/dist-packages/sklearn/neighbors/_classification.py:198: DataConversionWarning: A column-vector y was passed when a 1d array was expected. Please change the shape of y to (n_samples,), for example using ravel().\n",
            "  return self._fit(X, y)\n"
          ]
        }
      ]
    },
    {
      "cell_type": "code",
      "source": [
        "# F score\n",
        "# Checking performance on the training set\n",
        "print('KNN accuracy - Training set: {:.2f}'\n",
        "     .format(classifier.score(X_train, y_train)))\n",
        "#Checking performance on the test set\n",
        "print('KNN accuracy - Testing set: {:.2f}'\n",
        "     .format(classifier.score(X_test, y_test)))"
      ],
      "metadata": {
        "id": "RxGxRaVLkAp5",
        "colab": {
          "base_uri": "https://localhost:8080/"
        },
        "outputId": "996230d9-79fa-4be8-fa0b-1e9d6b6f5366"
      },
      "execution_count": null,
      "outputs": [
        {
          "output_type": "stream",
          "name": "stdout",
          "text": [
            "KNN accuracy - Training set: 0.95\n",
            "KNN accuracy - Testing set: 0.92\n"
          ]
        }
      ]
    },
    {
      "cell_type": "code",
      "source": [
        "acc = accuracy_score(y_test, pred)\n",
        "print(acc)"
      ],
      "metadata": {
        "colab": {
          "base_uri": "https://localhost:8080/"
        },
        "id": "_WuKySrlGn6b",
        "outputId": "d991c630-f3f9-4819-faa8-4908ef047f9d"
      },
      "execution_count": null,
      "outputs": [
        {
          "output_type": "stream",
          "name": "stdout",
          "text": [
            "0.92\n"
          ]
        }
      ]
    },
    {
      "cell_type": "code",
      "source": [
        "# Finding best value for K with GridSearchCV\n",
        "pipeline = Pipeline([\n",
        "    (\"scale\", StandardScaler()),\n",
        "    (\"model\", KNeighborsClassifier(n_neighbors=1))\n",
        "])\n",
        "pred = pipeline.fit(X, y).predict(X)\n",
        "mod = GridSearchCV(estimator=pipeline,\n",
        "                 param_grid={\n",
        "                   'model__n_neighbors': [1, 2, 3, 4, 5, 6, 7, 8, 9, 10]\n",
        "                 },\n",
        "                 cv = 10, \n",
        "                 scoring = 'accuracy')\n",
        "mod.fit(X, y);\n",
        "print (mod.best_score_)\n",
        "print (mod.best_params_)\n",
        "print (mod.best_estimator_)"
      ],
      "metadata": {
        "colab": {
          "base_uri": "https://localhost:8080/"
        },
        "id": "GDo_5yxvFPVm",
        "outputId": "754dbb6e-7b69-4be5-f821-849966c1a415"
      },
      "execution_count": null,
      "outputs": [
        {
          "output_type": "stream",
          "name": "stdout",
          "text": [
            "0.9666666666666668\n",
            "{'model__n_neighbors': 8}\n",
            "Pipeline(steps=[('scale', StandardScaler()),\n",
            "                ('model', KNeighborsClassifier(n_neighbors=8))])\n"
          ]
        }
      ]
    },
    {
      "cell_type": "markdown",
      "source": [
        "## Artificial Neural Network (ANN)"
      ],
      "metadata": {
        "id": "4z7FWeBPPwVB"
      }
    },
    {
      "cell_type": "code",
      "source": [
        "from sklearn import preprocessing\n",
        "from sklearn.model_selection import train_test_split\n",
        "from sklearn.neural_network import MLPClassifier\n",
        "from sklearn.metrics import ConfusionMatrixDisplay, confusion_matrix\n",
        "import matplotlib.pyplot as plt\n",
        "from sklearn.metrics import accuracy_score, classification_report"
      ],
      "metadata": {
        "id": "lhNadFDVYQIY"
      },
      "execution_count": null,
      "outputs": []
    },
    {
      "cell_type": "code",
      "source": [
        "# creating new set for ANN \n",
        "ann_X_data =  df.iloc[:, 1:8]\n",
        "\n",
        "gender_x_data_list = []\n",
        "\n",
        "for gender_x_data in df['Sample ID']:\n",
        "    thisXgenderData = \"\"\n",
        "    if gender_x_data.__contains__('-01'):\n",
        "        thisXgenderData = '1'\n",
        "    elif gender_x_data.__contains__('-02'):\n",
        "        thisXgenderData = '2'\n",
        "    elif gender_x_data.__contains__('-03'):\n",
        "        thisXgenderData = '3'\n",
        "    \n",
        "    gender_x_data_list.append(thisXgenderData)\n",
        "  \n",
        "df_for_ann = pd.DataFrame(gender_x_data_list,  columns =['Expression'])"
      ],
      "metadata": {
        "id": "qv_92fuM_sNv"
      },
      "execution_count": null,
      "outputs": []
    },
    {
      "cell_type": "code",
      "source": [
        "xDataAnn = pd.concat([df_for_ann, ann_X_data], axis=1)\n",
        "xDataAnn"
      ],
      "metadata": {
        "id": "NQUTQTT7AKEd",
        "colab": {
          "base_uri": "https://localhost:8080/",
          "height": 468
        },
        "outputId": "146d798e-7c13-41e9-93e3-42b0d89f899a"
      },
      "execution_count": null,
      "outputs": [
        {
          "output_type": "execute_result",
          "data": {
            "text/plain": [
              "    Expression  Eye Lenght Ratio  Eye Dist Ratio  Nose Ratio  Lip Size Ratio  \\\n",
              "0            1             0.208           0.480       0.135            3.29   \n",
              "1            2             0.223           0.488       0.136            3.30   \n",
              "2            3             0.209           0.483       0.134            3.76   \n",
              "3            2             0.200           0.428       0.147            3.39   \n",
              "4            3             0.210           0.434       0.155            3.89   \n",
              "..         ...               ...             ...         ...             ...   \n",
              "368          3             0.233           0.476       0.144            3.06   \n",
              "369          3             0.225           0.447       0.143            3.00   \n",
              "370          3             0.192           0.484       0.137            3.87   \n",
              "371          3             0.228           0.471       0.178            4.40   \n",
              "372          3             0.212           0.446       0.180            3.72   \n",
              "\n",
              "     Lip Length Ratio  Brow Length Ratio  Aggressive Ratio  \n",
              "0               0.413              0.374             0.982  \n",
              "1               0.486              0.368             0.972  \n",
              "2               0.398              0.370             0.926  \n",
              "3               0.469              0.398             0.955  \n",
              "4               0.456              0.415             0.960  \n",
              "..                ...                ...               ...  \n",
              "368             0.464              0.364             0.972  \n",
              "369             0.437              0.361             0.956  \n",
              "370             0.455              0.366             0.956  \n",
              "371             0.448              0.372             0.918  \n",
              "372             0.492              0.326             1.030  \n",
              "\n",
              "[373 rows x 8 columns]"
            ],
            "text/html": [
              "\n",
              "  <div id=\"df-18ad42b1-0f75-45d4-81ce-f233a8c9927f\">\n",
              "    <div class=\"colab-df-container\">\n",
              "      <div>\n",
              "<style scoped>\n",
              "    .dataframe tbody tr th:only-of-type {\n",
              "        vertical-align: middle;\n",
              "    }\n",
              "\n",
              "    .dataframe tbody tr th {\n",
              "        vertical-align: top;\n",
              "    }\n",
              "\n",
              "    .dataframe thead th {\n",
              "        text-align: right;\n",
              "    }\n",
              "</style>\n",
              "<table border=\"1\" class=\"dataframe\">\n",
              "  <thead>\n",
              "    <tr style=\"text-align: right;\">\n",
              "      <th></th>\n",
              "      <th>Expression</th>\n",
              "      <th>Eye Lenght Ratio</th>\n",
              "      <th>Eye Dist Ratio</th>\n",
              "      <th>Nose Ratio</th>\n",
              "      <th>Lip Size Ratio</th>\n",
              "      <th>Lip Length Ratio</th>\n",
              "      <th>Brow Length Ratio</th>\n",
              "      <th>Aggressive Ratio</th>\n",
              "    </tr>\n",
              "  </thead>\n",
              "  <tbody>\n",
              "    <tr>\n",
              "      <th>0</th>\n",
              "      <td>1</td>\n",
              "      <td>0.208</td>\n",
              "      <td>0.480</td>\n",
              "      <td>0.135</td>\n",
              "      <td>3.29</td>\n",
              "      <td>0.413</td>\n",
              "      <td>0.374</td>\n",
              "      <td>0.982</td>\n",
              "    </tr>\n",
              "    <tr>\n",
              "      <th>1</th>\n",
              "      <td>2</td>\n",
              "      <td>0.223</td>\n",
              "      <td>0.488</td>\n",
              "      <td>0.136</td>\n",
              "      <td>3.30</td>\n",
              "      <td>0.486</td>\n",
              "      <td>0.368</td>\n",
              "      <td>0.972</td>\n",
              "    </tr>\n",
              "    <tr>\n",
              "      <th>2</th>\n",
              "      <td>3</td>\n",
              "      <td>0.209</td>\n",
              "      <td>0.483</td>\n",
              "      <td>0.134</td>\n",
              "      <td>3.76</td>\n",
              "      <td>0.398</td>\n",
              "      <td>0.370</td>\n",
              "      <td>0.926</td>\n",
              "    </tr>\n",
              "    <tr>\n",
              "      <th>3</th>\n",
              "      <td>2</td>\n",
              "      <td>0.200</td>\n",
              "      <td>0.428</td>\n",
              "      <td>0.147</td>\n",
              "      <td>3.39</td>\n",
              "      <td>0.469</td>\n",
              "      <td>0.398</td>\n",
              "      <td>0.955</td>\n",
              "    </tr>\n",
              "    <tr>\n",
              "      <th>4</th>\n",
              "      <td>3</td>\n",
              "      <td>0.210</td>\n",
              "      <td>0.434</td>\n",
              "      <td>0.155</td>\n",
              "      <td>3.89</td>\n",
              "      <td>0.456</td>\n",
              "      <td>0.415</td>\n",
              "      <td>0.960</td>\n",
              "    </tr>\n",
              "    <tr>\n",
              "      <th>...</th>\n",
              "      <td>...</td>\n",
              "      <td>...</td>\n",
              "      <td>...</td>\n",
              "      <td>...</td>\n",
              "      <td>...</td>\n",
              "      <td>...</td>\n",
              "      <td>...</td>\n",
              "      <td>...</td>\n",
              "    </tr>\n",
              "    <tr>\n",
              "      <th>368</th>\n",
              "      <td>3</td>\n",
              "      <td>0.233</td>\n",
              "      <td>0.476</td>\n",
              "      <td>0.144</td>\n",
              "      <td>3.06</td>\n",
              "      <td>0.464</td>\n",
              "      <td>0.364</td>\n",
              "      <td>0.972</td>\n",
              "    </tr>\n",
              "    <tr>\n",
              "      <th>369</th>\n",
              "      <td>3</td>\n",
              "      <td>0.225</td>\n",
              "      <td>0.447</td>\n",
              "      <td>0.143</td>\n",
              "      <td>3.00</td>\n",
              "      <td>0.437</td>\n",
              "      <td>0.361</td>\n",
              "      <td>0.956</td>\n",
              "    </tr>\n",
              "    <tr>\n",
              "      <th>370</th>\n",
              "      <td>3</td>\n",
              "      <td>0.192</td>\n",
              "      <td>0.484</td>\n",
              "      <td>0.137</td>\n",
              "      <td>3.87</td>\n",
              "      <td>0.455</td>\n",
              "      <td>0.366</td>\n",
              "      <td>0.956</td>\n",
              "    </tr>\n",
              "    <tr>\n",
              "      <th>371</th>\n",
              "      <td>3</td>\n",
              "      <td>0.228</td>\n",
              "      <td>0.471</td>\n",
              "      <td>0.178</td>\n",
              "      <td>4.40</td>\n",
              "      <td>0.448</td>\n",
              "      <td>0.372</td>\n",
              "      <td>0.918</td>\n",
              "    </tr>\n",
              "    <tr>\n",
              "      <th>372</th>\n",
              "      <td>3</td>\n",
              "      <td>0.212</td>\n",
              "      <td>0.446</td>\n",
              "      <td>0.180</td>\n",
              "      <td>3.72</td>\n",
              "      <td>0.492</td>\n",
              "      <td>0.326</td>\n",
              "      <td>1.030</td>\n",
              "    </tr>\n",
              "  </tbody>\n",
              "</table>\n",
              "<p>373 rows × 8 columns</p>\n",
              "</div>\n",
              "      <button class=\"colab-df-convert\" onclick=\"convertToInteractive('df-18ad42b1-0f75-45d4-81ce-f233a8c9927f')\"\n",
              "              title=\"Convert this dataframe to an interactive table.\"\n",
              "              style=\"display:none;\">\n",
              "        \n",
              "  <svg xmlns=\"http://www.w3.org/2000/svg\" height=\"24px\"viewBox=\"0 0 24 24\"\n",
              "       width=\"24px\">\n",
              "    <path d=\"M0 0h24v24H0V0z\" fill=\"none\"/>\n",
              "    <path d=\"M18.56 5.44l.94 2.06.94-2.06 2.06-.94-2.06-.94-.94-2.06-.94 2.06-2.06.94zm-11 1L8.5 8.5l.94-2.06 2.06-.94-2.06-.94L8.5 2.5l-.94 2.06-2.06.94zm10 10l.94 2.06.94-2.06 2.06-.94-2.06-.94-.94-2.06-.94 2.06-2.06.94z\"/><path d=\"M17.41 7.96l-1.37-1.37c-.4-.4-.92-.59-1.43-.59-.52 0-1.04.2-1.43.59L10.3 9.45l-7.72 7.72c-.78.78-.78 2.05 0 2.83L4 21.41c.39.39.9.59 1.41.59.51 0 1.02-.2 1.41-.59l7.78-7.78 2.81-2.81c.8-.78.8-2.07 0-2.86zM5.41 20L4 18.59l7.72-7.72 1.47 1.35L5.41 20z\"/>\n",
              "  </svg>\n",
              "      </button>\n",
              "      \n",
              "  <style>\n",
              "    .colab-df-container {\n",
              "      display:flex;\n",
              "      flex-wrap:wrap;\n",
              "      gap: 12px;\n",
              "    }\n",
              "\n",
              "    .colab-df-convert {\n",
              "      background-color: #E8F0FE;\n",
              "      border: none;\n",
              "      border-radius: 50%;\n",
              "      cursor: pointer;\n",
              "      display: none;\n",
              "      fill: #1967D2;\n",
              "      height: 32px;\n",
              "      padding: 0 0 0 0;\n",
              "      width: 32px;\n",
              "    }\n",
              "\n",
              "    .colab-df-convert:hover {\n",
              "      background-color: #E2EBFA;\n",
              "      box-shadow: 0px 1px 2px rgba(60, 64, 67, 0.3), 0px 1px 3px 1px rgba(60, 64, 67, 0.15);\n",
              "      fill: #174EA6;\n",
              "    }\n",
              "\n",
              "    [theme=dark] .colab-df-convert {\n",
              "      background-color: #3B4455;\n",
              "      fill: #D2E3FC;\n",
              "    }\n",
              "\n",
              "    [theme=dark] .colab-df-convert:hover {\n",
              "      background-color: #434B5C;\n",
              "      box-shadow: 0px 1px 3px 1px rgba(0, 0, 0, 0.15);\n",
              "      filter: drop-shadow(0px 1px 2px rgba(0, 0, 0, 0.3));\n",
              "      fill: #FFFFFF;\n",
              "    }\n",
              "  </style>\n",
              "\n",
              "      <script>\n",
              "        const buttonEl =\n",
              "          document.querySelector('#df-18ad42b1-0f75-45d4-81ce-f233a8c9927f button.colab-df-convert');\n",
              "        buttonEl.style.display =\n",
              "          google.colab.kernel.accessAllowed ? 'block' : 'none';\n",
              "\n",
              "        async function convertToInteractive(key) {\n",
              "          const element = document.querySelector('#df-18ad42b1-0f75-45d4-81ce-f233a8c9927f');\n",
              "          const dataTable =\n",
              "            await google.colab.kernel.invokeFunction('convertToInteractive',\n",
              "                                                     [key], {});\n",
              "          if (!dataTable) return;\n",
              "\n",
              "          const docLinkHtml = 'Like what you see? Visit the ' +\n",
              "            '<a target=\"_blank\" href=https://colab.research.google.com/notebooks/data_table.ipynb>data table notebook</a>'\n",
              "            + ' to learn more about interactive tables.';\n",
              "          element.innerHTML = '';\n",
              "          dataTable['output_type'] = 'display_data';\n",
              "          await google.colab.output.renderOutput(dataTable, element);\n",
              "          const docLink = document.createElement('div');\n",
              "          docLink.innerHTML = docLinkHtml;\n",
              "          element.appendChild(docLink);\n",
              "        }\n",
              "      </script>\n",
              "    </div>\n",
              "  </div>\n",
              "  "
            ]
          },
          "metadata": {},
          "execution_count": 323
        }
      ]
    },
    {
      "cell_type": "code",
      "source": [
        "x_prime =  xDataAnn.iloc[:, 0:8]\n",
        "x_prime = x_prime.reset_index(drop=True)\n",
        "# x_prime\n",
        "y_data = xDataAnn.iloc[:, 0:1]\n",
        "y_data = y_data.reset_index(drop=True)\n",
        "# y_data\n",
        "# The preprocessing.scale() algorithm puts your data on one scale.\n",
        "# This is helpful with largely sparse datasets. In simple words, your data is vastly spread out.\n",
        "x_ann = preprocessing.scale(x_prime)\n",
        "print(x_ann.shape)\n",
        "X_train, X_test, y_train, y_test = train_test_split(x_ann, y_data, test_size = 0.20, random_state = 42, shuffle=True)\n",
        "len(X_train),  len(X_test), len(y_train), len(y_test)"
      ],
      "metadata": {
        "id": "A4ml8l2jAQY5",
        "colab": {
          "base_uri": "https://localhost:8080/"
        },
        "outputId": "afb2edd5-38ae-44c6-9208-144d49244828"
      },
      "execution_count": null,
      "outputs": [
        {
          "output_type": "stream",
          "name": "stdout",
          "text": [
            "(373, 8)\n"
          ]
        },
        {
          "output_type": "execute_result",
          "data": {
            "text/plain": [
              "(298, 75, 298, 75)"
            ]
          },
          "metadata": {},
          "execution_count": 324
        }
      ]
    },
    {
      "cell_type": "code",
      "source": [
        "# https://scikit-learn.org/stable/modules/generated/sklearn.neural_network.MLPClassifier.html\n",
        "clf = MLPClassifier(hidden_layer_sizes=(100, 30, 10, ),\n",
        "                    activation='relu', \n",
        "                    solver='adam', \n",
        "                    alpha=0.0001,\n",
        "                    batch_size='auto',\n",
        "                    learning_rate='adaptive', \n",
        "                    learning_rate_init=0.002, \n",
        "                    power_t=0.5, \n",
        "                    max_iter=500,\n",
        "                    shuffle=True, \n",
        "                    random_state=None, \n",
        "                    tol=0.0001, \n",
        "                    verbose=False,\n",
        "                    warm_start=False,\n",
        "                    momentum=0.9, \n",
        "                    nesterovs_momentum=True, \n",
        "                    early_stopping=True, \n",
        "                    validation_fraction=0.1, \n",
        "                    beta_1=0.9,\n",
        "                    beta_2=0.999, \n",
        "                    epsilon=1e-08, \n",
        "                    n_iter_no_change=10, \n",
        "                    max_fun=15000)"
      ],
      "metadata": {
        "id": "f-6KyC0QAVrx"
      },
      "execution_count": null,
      "outputs": []
    },
    {
      "cell_type": "code",
      "source": [
        "clf.fit(X_train, y_train)\n",
        "len(X_test), len(y_test)"
      ],
      "metadata": {
        "id": "c4lfD3X2AXgf",
        "colab": {
          "base_uri": "https://localhost:8080/"
        },
        "outputId": "951181e7-baf3-4710-d336-30cc5065b64a"
      },
      "execution_count": null,
      "outputs": [
        {
          "output_type": "stream",
          "name": "stderr",
          "text": [
            "/usr/local/lib/python3.7/dist-packages/sklearn/neural_network/_multilayer_perceptron.py:1109: DataConversionWarning: A column-vector y was passed when a 1d array was expected. Please change the shape of y to (n_samples, ), for example using ravel().\n",
            "  y = column_or_1d(y, warn=True)\n"
          ]
        },
        {
          "output_type": "execute_result",
          "data": {
            "text/plain": [
              "(75, 75)"
            ]
          },
          "metadata": {},
          "execution_count": 326
        }
      ]
    },
    {
      "cell_type": "code",
      "source": [
        "P_data = clf.predict(X_test)\n",
        "P_data_df = pd.DataFrame(P_data, columns = ['Predict Data'])\n",
        "P_data_df.reset_index(drop=True, inplace=True)\n",
        "y_test.reset_index(drop=True, inplace=True)\n",
        "the_final_result = pd.concat([P_data_df, y_test], axis=1)\n",
        "# Final result of ANN \n",
        "# total test data size\n",
        "len(P_data_df), len(y_test)"
      ],
      "metadata": {
        "id": "fZgpAgmvAwUS",
        "colab": {
          "base_uri": "https://localhost:8080/"
        },
        "outputId": "faffb7d1-0b2e-43ce-ecb1-0905646d8a75"
      },
      "execution_count": null,
      "outputs": [
        {
          "output_type": "execute_result",
          "data": {
            "text/plain": [
              "(75, 75)"
            ]
          },
          "metadata": {},
          "execution_count": 327
        }
      ]
    },
    {
      "cell_type": "code",
      "source": [
        "accuracy_score(the_final_result[\"Predict Data\"], the_final_result[\"Expression\"], normalize=True)"
      ],
      "metadata": {
        "id": "ReBmmfQOAzCe",
        "colab": {
          "base_uri": "https://localhost:8080/"
        },
        "outputId": "dbb02c1b-feeb-46ac-dedb-a258ec2b680f"
      },
      "execution_count": null,
      "outputs": [
        {
          "output_type": "execute_result",
          "data": {
            "text/plain": [
              "0.9866666666666667"
            ]
          },
          "metadata": {},
          "execution_count": 328
        }
      ]
    },
    {
      "cell_type": "code",
      "source": [
        "print(classification_report(y_test, P_data))"
      ],
      "metadata": {
        "colab": {
          "base_uri": "https://localhost:8080/"
        },
        "id": "8v9MNEEIwE1-",
        "outputId": "ce54a362-74fa-4cb6-aaa9-f6a8968dc286"
      },
      "execution_count": null,
      "outputs": [
        {
          "output_type": "stream",
          "name": "stdout",
          "text": [
            "              precision    recall  f1-score   support\n",
            "\n",
            "           1       0.97      1.00      0.99        33\n",
            "           2       1.00      0.95      0.98        22\n",
            "           3       1.00      1.00      1.00        20\n",
            "\n",
            "    accuracy                           0.99        75\n",
            "   macro avg       0.99      0.98      0.99        75\n",
            "weighted avg       0.99      0.99      0.99        75\n",
            "\n"
          ]
        }
      ]
    },
    {
      "cell_type": "code",
      "source": [
        "# Plot the confusion matrix\n",
        "fig, ax = plt.subplots(figsize=(12, 8))\n",
        "# Create the matrix\n",
        "cm = confusion_matrix(y_test, P_data)\n",
        "cmp = ConfusionMatrixDisplay(cm, display_labels=['Natural', 'Smile', 'Anger'])\n",
        "cmp.plot(ax=ax)\n",
        "\n",
        "plt.show();"
      ],
      "metadata": {
        "id": "ktZ3TuvqA017",
        "colab": {
          "base_uri": "https://localhost:8080/",
          "height": 497
        },
        "outputId": "afdee924-c1d0-4c94-a093-809d2f35bd47"
      },
      "execution_count": null,
      "outputs": [
        {
          "output_type": "display_data",
          "data": {
            "text/plain": [
              "<Figure size 864x576 with 2 Axes>"
            ],
            "image/png": "[encoded data removed]"
          },
          "metadata": {
            "needs_background": "light"
          }
        }
      ]
    },
    {
      "cell_type": "markdown",
      "source": [
        "## Naïve Bayes"
      ],
      "metadata": {
        "id": "eCSaSO8ztDDp"
      }
    },
    {
      "cell_type": "code",
      "source": [
        "# imports\n",
        "from sklearn.datasets import load_iris\n",
        "from sklearn.model_selection import train_test_split\n",
        "from sklearn.naive_bayes import GaussianNB\n",
        "from sklearn.metrics import ConfusionMatrixDisplay, confusion_matrix\n",
        "from sklearn import metrics\n",
        "import matplotlib.pyplot as plt\n",
        "import numpy as np"
      ],
      "metadata": {
        "id": "JY6EeIl2t06_"
      },
      "execution_count": null,
      "outputs": []
    },
    {
      "cell_type": "code",
      "source": [
        "# creating new data formatting set for SVM\n",
        "svm_X_data =  df.iloc[:, 1:8]\n",
        "\n",
        "gender_x_data_list = []\n",
        "\n",
        "for gender_x_data in df['Sample ID']:\n",
        "    thisXgenderData = \"\"\n",
        "    if gender_x_data.__contains__('-01'):\n",
        "        thisXgenderData = '1'\n",
        "    elif gender_x_data.__contains__('-02'):\n",
        "        thisXgenderData = '2'\n",
        "    elif gender_x_data.__contains__('-03'):\n",
        "        thisXgenderData = '3'\n",
        "    \n",
        "    gender_x_data_list.append(thisXgenderData)\n",
        "    \n",
        "df_for_ann = pd.DataFrame(gender_x_data_list,  columns =['Expression'])\n",
        "xDataNB = pd.concat([df_for_ann, svm_X_data], axis=1)\n",
        "xDataNB"
      ],
      "metadata": {
        "colab": {
          "base_uri": "https://localhost:8080/",
          "height": 419
        },
        "id": "z76-uVc38Pc_",
        "outputId": "b94f0903-9dc9-47e1-fa93-7ac443441074"
      },
      "execution_count": null,
      "outputs": [
        {
          "output_type": "execute_result",
          "data": {
            "text/plain": [
              "    Expression  Eye Lenght Ratio  Eye Dist Ratio  Nose Ratio  Lip Size Ratio  \\\n",
              "0            1             0.208           0.480       0.135            3.29   \n",
              "1            2             0.223           0.488       0.136            3.30   \n",
              "2            3             0.209           0.483       0.134            3.76   \n",
              "3            2             0.200           0.428       0.147            3.39   \n",
              "4            3             0.210           0.434       0.155            3.89   \n",
              "..         ...               ...             ...         ...             ...   \n",
              "368          3             0.233           0.476       0.144            3.06   \n",
              "369          3             0.225           0.447       0.143            3.00   \n",
              "370          3             0.192           0.484       0.137            3.87   \n",
              "371          3             0.228           0.471       0.178            4.40   \n",
              "372          3             0.212           0.446       0.180            3.72   \n",
              "\n",
              "     Lip Length Ratio  Brow Length Ratio  Aggressive Ratio  \n",
              "0               0.413              0.374             0.982  \n",
              "1               0.486              0.368             0.972  \n",
              "2               0.398              0.370             0.926  \n",
              "3               0.469              0.398             0.955  \n",
              "4               0.456              0.415             0.960  \n",
              "..                ...                ...               ...  \n",
              "368             0.464              0.364             0.972  \n",
              "369             0.437              0.361             0.956  \n",
              "370             0.455              0.366             0.956  \n",
              "371             0.448              0.372             0.918  \n",
              "372             0.492              0.326             1.030  \n",
              "\n",
              "[373 rows x 8 columns]"
            ],
            "text/html": [
              "\n",
              "  <div id=\"df-3338940d-1ce9-4397-b130-9d0110fc65b3\">\n",
              "    <div class=\"colab-df-container\">\n",
              "      <div>\n",
              "<style scoped>\n",
              "    .dataframe tbody tr th:only-of-type {\n",
              "        vertical-align: middle;\n",
              "    }\n",
              "\n",
              "    .dataframe tbody tr th {\n",
              "        vertical-align: top;\n",
              "    }\n",
              "\n",
              "    .dataframe thead th {\n",
              "        text-align: right;\n",
              "    }\n",
              "</style>\n",
              "<table border=\"1\" class=\"dataframe\">\n",
              "  <thead>\n",
              "    <tr style=\"text-align: right;\">\n",
              "      <th></th>\n",
              "      <th>Expression</th>\n",
              "      <th>Eye Lenght Ratio</th>\n",
              "      <th>Eye Dist Ratio</th>\n",
              "      <th>Nose Ratio</th>\n",
              "      <th>Lip Size Ratio</th>\n",
              "      <th>Lip Length Ratio</th>\n",
              "      <th>Brow Length Ratio</th>\n",
              "      <th>Aggressive Ratio</th>\n",
              "    </tr>\n",
              "  </thead>\n",
              "  <tbody>\n",
              "    <tr>\n",
              "      <th>0</th>\n",
              "      <td>1</td>\n",
              "      <td>0.208</td>\n",
              "      <td>0.480</td>\n",
              "      <td>0.135</td>\n",
              "      <td>3.29</td>\n",
              "      <td>0.413</td>\n",
              "      <td>0.374</td>\n",
              "      <td>0.982</td>\n",
              "    </tr>\n",
              "    <tr>\n",
              "      <th>1</th>\n",
              "      <td>2</td>\n",
              "      <td>0.223</td>\n",
              "      <td>0.488</td>\n",
              "      <td>0.136</td>\n",
              "      <td>3.30</td>\n",
              "      <td>0.486</td>\n",
              "      <td>0.368</td>\n",
              "      <td>0.972</td>\n",
              "    </tr>\n",
              "    <tr>\n",
              "      <th>2</th>\n",
              "      <td>3</td>\n",
              "      <td>0.209</td>\n",
              "      <td>0.483</td>\n",
              "      <td>0.134</td>\n",
              "      <td>3.76</td>\n",
              "      <td>0.398</td>\n",
              "      <td>0.370</td>\n",
              "      <td>0.926</td>\n",
              "    </tr>\n",
              "    <tr>\n",
              "      <th>3</th>\n",
              "      <td>2</td>\n",
              "      <td>0.200</td>\n",
              "      <td>0.428</td>\n",
              "      <td>0.147</td>\n",
              "      <td>3.39</td>\n",
              "      <td>0.469</td>\n",
              "      <td>0.398</td>\n",
              "      <td>0.955</td>\n",
              "    </tr>\n",
              "    <tr>\n",
              "      <th>4</th>\n",
              "      <td>3</td>\n",
              "      <td>0.210</td>\n",
              "      <td>0.434</td>\n",
              "      <td>0.155</td>\n",
              "      <td>3.89</td>\n",
              "      <td>0.456</td>\n",
              "      <td>0.415</td>\n",
              "      <td>0.960</td>\n",
              "    </tr>\n",
              "    <tr>\n",
              "      <th>...</th>\n",
              "      <td>...</td>\n",
              "      <td>...</td>\n",
              "      <td>...</td>\n",
              "      <td>...</td>\n",
              "      <td>...</td>\n",
              "      <td>...</td>\n",
              "      <td>...</td>\n",
              "      <td>...</td>\n",
              "    </tr>\n",
              "    <tr>\n",
              "      <th>368</th>\n",
              "      <td>3</td>\n",
              "      <td>0.233</td>\n",
              "      <td>0.476</td>\n",
              "      <td>0.144</td>\n",
              "      <td>3.06</td>\n",
              "      <td>0.464</td>\n",
              "      <td>0.364</td>\n",
              "      <td>0.972</td>\n",
              "    </tr>\n",
              "    <tr>\n",
              "      <th>369</th>\n",
              "      <td>3</td>\n",
              "      <td>0.225</td>\n",
              "      <td>0.447</td>\n",
              "      <td>0.143</td>\n",
              "      <td>3.00</td>\n",
              "      <td>0.437</td>\n",
              "      <td>0.361</td>\n",
              "      <td>0.956</td>\n",
              "    </tr>\n",
              "    <tr>\n",
              "      <th>370</th>\n",
              "      <td>3</td>\n",
              "      <td>0.192</td>\n",
              "      <td>0.484</td>\n",
              "      <td>0.137</td>\n",
              "      <td>3.87</td>\n",
              "      <td>0.455</td>\n",
              "      <td>0.366</td>\n",
              "      <td>0.956</td>\n",
              "    </tr>\n",
              "    <tr>\n",
              "      <th>371</th>\n",
              "      <td>3</td>\n",
              "      <td>0.228</td>\n",
              "      <td>0.471</td>\n",
              "      <td>0.178</td>\n",
              "      <td>4.40</td>\n",
              "      <td>0.448</td>\n",
              "      <td>0.372</td>\n",
              "      <td>0.918</td>\n",
              "    </tr>\n",
              "    <tr>\n",
              "      <th>372</th>\n",
              "      <td>3</td>\n",
              "      <td>0.212</td>\n",
              "      <td>0.446</td>\n",
              "      <td>0.180</td>\n",
              "      <td>3.72</td>\n",
              "      <td>0.492</td>\n",
              "      <td>0.326</td>\n",
              "      <td>1.030</td>\n",
              "    </tr>\n",
              "  </tbody>\n",
              "</table>\n",
              "<p>373 rows × 8 columns</p>\n",
              "</div>\n",
              "      <button class=\"colab-df-convert\" onclick=\"convertToInteractive('df-3338940d-1ce9-4397-b130-9d0110fc65b3')\"\n",
              "              title=\"Convert this dataframe to an interactive table.\"\n",
              "              style=\"display:none;\">\n",
              "        \n",
              "  <svg xmlns=\"http://www.w3.org/2000/svg\" height=\"24px\"viewBox=\"0 0 24 24\"\n",
              "       width=\"24px\">\n",
              "    <path d=\"M0 0h24v24H0V0z\" fill=\"none\"/>\n",
              "    <path d=\"M18.56 5.44l.94 2.06.94-2.06 2.06-.94-2.06-.94-.94-2.06-.94 2.06-2.06.94zm-11 1L8.5 8.5l.94-2.06 2.06-.94-2.06-.94L8.5 2.5l-.94 2.06-2.06.94zm10 10l.94 2.06.94-2.06 2.06-.94-2.06-.94-.94-2.06-.94 2.06-2.06.94z\"/><path d=\"M17.41 7.96l-1.37-1.37c-.4-.4-.92-.59-1.43-.59-.52 0-1.04.2-1.43.59L10.3 9.45l-7.72 7.72c-.78.78-.78 2.05 0 2.83L4 21.41c.39.39.9.59 1.41.59.51 0 1.02-.2 1.41-.59l7.78-7.78 2.81-2.81c.8-.78.8-2.07 0-2.86zM5.41 20L4 18.59l7.72-7.72 1.47 1.35L5.41 20z\"/>\n",
              "  </svg>\n",
              "      </button>\n",
              "      \n",
              "  <style>\n",
              "    .colab-df-container {\n",
              "      display:flex;\n",
              "      flex-wrap:wrap;\n",
              "      gap: 12px;\n",
              "    }\n",
              "\n",
              "    .colab-df-convert {\n",
              "      background-color: #E8F0FE;\n",
              "      border: none;\n",
              "      border-radius: 50%;\n",
              "      cursor: pointer;\n",
              "      display: none;\n",
              "      fill: #1967D2;\n",
              "      height: 32px;\n",
              "      padding: 0 0 0 0;\n",
              "      width: 32px;\n",
              "    }\n",
              "\n",
              "    .colab-df-convert:hover {\n",
              "      background-color: #E2EBFA;\n",
              "      box-shadow: 0px 1px 2px rgba(60, 64, 67, 0.3), 0px 1px 3px 1px rgba(60, 64, 67, 0.15);\n",
              "      fill: #174EA6;\n",
              "    }\n",
              "\n",
              "    [theme=dark] .colab-df-convert {\n",
              "      background-color: #3B4455;\n",
              "      fill: #D2E3FC;\n",
              "    }\n",
              "\n",
              "    [theme=dark] .colab-df-convert:hover {\n",
              "      background-color: #434B5C;\n",
              "      box-shadow: 0px 1px 3px 1px rgba(0, 0, 0, 0.15);\n",
              "      filter: drop-shadow(0px 1px 2px rgba(0, 0, 0, 0.3));\n",
              "      fill: #FFFFFF;\n",
              "    }\n",
              "  </style>\n",
              "\n",
              "      <script>\n",
              "        const buttonEl =\n",
              "          document.querySelector('#df-3338940d-1ce9-4397-b130-9d0110fc65b3 button.colab-df-convert');\n",
              "        buttonEl.style.display =\n",
              "          google.colab.kernel.accessAllowed ? 'block' : 'none';\n",
              "\n",
              "        async function convertToInteractive(key) {\n",
              "          const element = document.querySelector('#df-3338940d-1ce9-4397-b130-9d0110fc65b3');\n",
              "          const dataTable =\n",
              "            await google.colab.kernel.invokeFunction('convertToInteractive',\n",
              "                                                     [key], {});\n",
              "          if (!dataTable) return;\n",
              "\n",
              "          const docLinkHtml = 'Like what you see? Visit the ' +\n",
              "            '<a target=\"_blank\" href=https://colab.research.google.com/notebooks/data_table.ipynb>data table notebook</a>'\n",
              "            + ' to learn more about interactive tables.';\n",
              "          element.innerHTML = '';\n",
              "          dataTable['output_type'] = 'display_data';\n",
              "          await google.colab.output.renderOutput(dataTable, element);\n",
              "          const docLink = document.createElement('div');\n",
              "          docLink.innerHTML = docLinkHtml;\n",
              "          element.appendChild(docLink);\n",
              "        }\n",
              "      </script>\n",
              "    </div>\n",
              "  </div>\n",
              "  "
            ]
          },
          "metadata": {},
          "execution_count": 8
        }
      ]
    },
    {
      "cell_type": "code",
      "source": [
        "x_prime_NB = xDataNB.iloc[:, 0:8]\n",
        "x_prime_NB = x_prime_NB.reset_index(drop=True)\n",
        "\n",
        "y_data_NB = x_prime_NB.iloc[:, 0:1]\n",
        "y_data_NB = y_data_NB.reset_index(drop=True)\n",
        "# y_data\n",
        "\n",
        "# The preprocessing.scale() algorithm puts your data on one scale.\n",
        "# This is helpful with largely sparse datasets. In simple words, your data is vastly spread out.\n",
        "x_nb = preprocessing.scale(x_prime_NB)\n",
        "y_nb = preprocessing.scale(y_data_NB)\n",
        "# x_nb.shape"
      ],
      "metadata": {
        "id": "FcWLI8tgmVhX"
      },
      "execution_count": null,
      "outputs": []
    },
    {
      "cell_type": "code",
      "source": [
        "x_prime_NB = x_prime_NB.to_numpy()"
      ],
      "metadata": {
        "id": "WG4GFXlt8niF"
      },
      "execution_count": null,
      "outputs": []
    },
    {
      "cell_type": "code",
      "source": [
        "y_data_NB = y_data_NB.to_numpy()"
      ],
      "metadata": {
        "id": "uS_41d7m9H8M"
      },
      "execution_count": null,
      "outputs": []
    },
    {
      "cell_type": "code",
      "source": [
        "X_train, X_test, y_train, y_test = train_test_split(x_prime_NB, y_data_NB, test_size=0.20, random_state=42, shuffle=True)"
      ],
      "metadata": {
        "id": "MG1HuVgIukJP"
      },
      "execution_count": null,
      "outputs": []
    },
    {
      "cell_type": "code",
      "source": [
        "len(X_train), len(X_test), len(y_train), len(y_test)"
      ],
      "metadata": {
        "colab": {
          "base_uri": "https://localhost:8080/"
        },
        "id": "2lwE1K_ywVWc",
        "outputId": "fd379e99-46b0-4523-e5b1-72a6646db4a0"
      },
      "execution_count": null,
      "outputs": [
        {
          "output_type": "execute_result",
          "data": {
            "text/plain": [
              "(298, 75, 298, 75)"
            ]
          },
          "metadata": {},
          "execution_count": 13
        }
      ]
    },
    {
      "cell_type": "code",
      "source": [
        "gnb = GaussianNB()\n",
        "\n",
        "Y_P = gnb.fit(X_train, y_train)\n",
        "\n",
        "Y_gnb_score = gnb.predict_proba(X_test)\n",
        "\n",
        "# reformat the results for output\n",
        "a = []\n",
        "for row in Y_gnb_score:\n",
        "  if row[0] == 1:\n",
        "    a.append(['1'])\n",
        "  elif row[1] == 1:\n",
        "    a.append(['2'])\n",
        "  elif row[2] == 1:\n",
        "    a.append(['3'])\n",
        "    \n",
        "Y_gnb_score = a"
      ],
      "metadata": {
        "id": "uCJbREt8pemR",
        "colab": {
          "base_uri": "https://localhost:8080/"
        },
        "outputId": "007ad893-9371-409b-865e-1072a5ef2bd2"
      },
      "execution_count": null,
      "outputs": [
        {
          "output_type": "stream",
          "name": "stderr",
          "text": [
            "/usr/local/lib/python3.7/dist-packages/sklearn/utils/validation.py:993: DataConversionWarning: A column-vector y was passed when a 1d array was expected. Please change the shape of y to (n_samples, ), for example using ravel().\n",
            "  y = column_or_1d(y, warn=True)\n"
          ]
        }
      ]
    },
    {
      "cell_type": "code",
      "source": [
        "print(\"Naive Bayes score: \", gnb.score(X_test, y_test))"
      ],
      "metadata": {
        "id": "YIQ-ZWPS-hKJ",
        "colab": {
          "base_uri": "https://localhost:8080/"
        },
        "outputId": "5548556c-fd3c-4600-efdc-f6fba448552d"
      },
      "execution_count": null,
      "outputs": [
        {
          "output_type": "stream",
          "name": "stdout",
          "text": [
            "Naive Bayes score:  1.0\n"
          ]
        }
      ]
    },
    {
      "cell_type": "code",
      "source": [
        "# Plot the confusion matrix\n",
        "fig, ax = plt.subplots(figsize=(12, 8))\n",
        "# Create the matrix\n",
        "cm = confusion_matrix(Y_gnb_score, y_test)\n",
        "cmp = ConfusionMatrixDisplay(cm, display_labels=['Natural', 'Smile', 'Anger'])\n",
        "cmp.plot(ax=ax)\n",
        "\n",
        "plt.show();"
      ],
      "metadata": {
        "id": "VBKoj2gL4XH_",
        "colab": {
          "base_uri": "https://localhost:8080/",
          "height": 497
        },
        "outputId": "186ccfb1-d7ea-4f69-caf4-f9615427ccd5"
      },
      "execution_count": null,
      "outputs": [
        {
          "output_type": "display_data",
          "data": {
            "text/plain": [
              "<Figure size 864x576 with 2 Axes>"
            ],
            "image/png": "[encoded data removed]"
          },
          "metadata": {
            "needs_background": "light"
          }
        }
      ]
    },
    {
      "cell_type": "code",
      "source": [
        "import numpy as np\n",
        "\n",
        "print(\"Naive Bayes score: \", y_pred.score(X_test, y_test))"
      ],
      "metadata": {
        "id": "5cWTXQndn2VE"
      },
      "execution_count": null,
      "outputs": []
    },
    {
      "cell_type": "markdown",
      "source": [
        "## Decision Tree"
      ],
      "metadata": {
        "id": "0HeckUQanWas"
      }
    },
    {
      "cell_type": "code",
      "source": [
        "from sklearn.datasets import load_iris\n",
        "from sklearn.model_selection import cross_val_score\n",
        "from sklearn.tree import DecisionTreeClassifier\n",
        "from sklearn import metrics"
      ],
      "metadata": {
        "id": "8PX2fZ6GZv-N"
      },
      "execution_count": null,
      "outputs": []
    },
    {
      "cell_type": "code",
      "source": [
        "# creating new data formatting set for Decision Tree\n",
        "svm_X_data =  df.iloc[:, 1:8]\n",
        "\n",
        "gender_x_data_list = []\n",
        "sampleId[-1]\n",
        "for gender_x_data in df['Sample ID']:\n",
        "    thisXgenderData = \"\"\n",
        "    if gender_x_data.__contains__('-01'):\n",
        "        thisXgenderData = '1'\n",
        "    elif gender_x_data.__contains__('-02'):\n",
        "        thisXgenderData = '2'\n",
        "    elif gender_x_data.__contains__('-03'):\n",
        "        thisXgenderData = '3'\n",
        "    \n",
        "    gender_x_data_list.append(thisXgenderData)\n",
        "    \n",
        "df_for_dt = pd.DataFrame(gender_x_data_list,  columns =['Expression'])\n",
        "xDataDT = pd.concat([df_for_dt, svm_X_data], axis=1)\n",
        "xDataDT"
      ],
      "metadata": {
        "id": "oo1f0hitZbwA",
        "colab": {
          "base_uri": "https://localhost:8080/",
          "height": 485
        },
        "outputId": "b58ead42-9858-4a68-8393-c38e08888ddb"
      },
      "execution_count": null,
      "outputs": [
        {
          "output_type": "execute_result",
          "data": {
            "text/plain": [
              "    Expression  Eye Lenght Ratio  Eye Dist Ratio  Nose Ratio  Lip Size Ratio  \\\n",
              "0            1             0.208           0.480       0.135            3.29   \n",
              "1            2             0.223           0.488       0.136            3.30   \n",
              "2            3             0.209           0.483       0.134            3.76   \n",
              "3            2             0.200           0.428       0.147            3.39   \n",
              "4            3             0.210           0.434       0.155            3.89   \n",
              "..         ...               ...             ...         ...             ...   \n",
              "368          3             0.233           0.476       0.144            3.06   \n",
              "369          3             0.225           0.447       0.143            3.00   \n",
              "370          3             0.192           0.484       0.137            3.87   \n",
              "371          3             0.228           0.471       0.178            4.40   \n",
              "372          3             0.212           0.446       0.180            3.72   \n",
              "\n",
              "     Lip Length Ratio  Brow Length Ratio  Aggressive Ratio  \n",
              "0               0.413              0.374             0.982  \n",
              "1               0.486              0.368             0.972  \n",
              "2               0.398              0.370             0.926  \n",
              "3               0.469              0.398             0.955  \n",
              "4               0.456              0.415             0.960  \n",
              "..                ...                ...               ...  \n",
              "368             0.464              0.364             0.972  \n",
              "369             0.437              0.361             0.956  \n",
              "370             0.455              0.366             0.956  \n",
              "371             0.448              0.372             0.918  \n",
              "372             0.492              0.326             1.030  \n",
              "\n",
              "[373 rows x 8 columns]"
            ],
            "text/html": [
              "\n",
              "  <div id=\"df-54a600f0-0d55-40ac-a34a-2ebbe0e8c54e\">\n",
              "    <div class=\"colab-df-container\">\n",
              "      <div>\n",
              "<style scoped>\n",
              "    .dataframe tbody tr th:only-of-type {\n",
              "        vertical-align: middle;\n",
              "    }\n",
              "\n",
              "    .dataframe tbody tr th {\n",
              "        vertical-align: top;\n",
              "    }\n",
              "\n",
              "    .dataframe thead th {\n",
              "        text-align: right;\n",
              "    }\n",
              "</style>\n",
              "<table border=\"1\" class=\"dataframe\">\n",
              "  <thead>\n",
              "    <tr style=\"text-align: right;\">\n",
              "      <th></th>\n",
              "      <th>Expression</th>\n",
              "      <th>Eye Lenght Ratio</th>\n",
              "      <th>Eye Dist Ratio</th>\n",
              "      <th>Nose Ratio</th>\n",
              "      <th>Lip Size Ratio</th>\n",
              "      <th>Lip Length Ratio</th>\n",
              "      <th>Brow Length Ratio</th>\n",
              "      <th>Aggressive Ratio</th>\n",
              "    </tr>\n",
              "  </thead>\n",
              "  <tbody>\n",
              "    <tr>\n",
              "      <th>0</th>\n",
              "      <td>1</td>\n",
              "      <td>0.208</td>\n",
              "      <td>0.480</td>\n",
              "      <td>0.135</td>\n",
              "      <td>3.29</td>\n",
              "      <td>0.413</td>\n",
              "      <td>0.374</td>\n",
              "      <td>0.982</td>\n",
              "    </tr>\n",
              "    <tr>\n",
              "      <th>1</th>\n",
              "      <td>2</td>\n",
              "      <td>0.223</td>\n",
              "      <td>0.488</td>\n",
              "      <td>0.136</td>\n",
              "      <td>3.30</td>\n",
              "      <td>0.486</td>\n",
              "      <td>0.368</td>\n",
              "      <td>0.972</td>\n",
              "    </tr>\n",
              "    <tr>\n",
              "      <th>2</th>\n",
              "      <td>3</td>\n",
              "      <td>0.209</td>\n",
              "      <td>0.483</td>\n",
              "      <td>0.134</td>\n",
              "      <td>3.76</td>\n",
              "      <td>0.398</td>\n",
              "      <td>0.370</td>\n",
              "      <td>0.926</td>\n",
              "    </tr>\n",
              "    <tr>\n",
              "      <th>3</th>\n",
              "      <td>2</td>\n",
              "      <td>0.200</td>\n",
              "      <td>0.428</td>\n",
              "      <td>0.147</td>\n",
              "      <td>3.39</td>\n",
              "      <td>0.469</td>\n",
              "      <td>0.398</td>\n",
              "      <td>0.955</td>\n",
              "    </tr>\n",
              "    <tr>\n",
              "      <th>4</th>\n",
              "      <td>3</td>\n",
              "      <td>0.210</td>\n",
              "      <td>0.434</td>\n",
              "      <td>0.155</td>\n",
              "      <td>3.89</td>\n",
              "      <td>0.456</td>\n",
              "      <td>0.415</td>\n",
              "      <td>0.960</td>\n",
              "    </tr>\n",
              "    <tr>\n",
              "      <th>...</th>\n",
              "      <td>...</td>\n",
              "      <td>...</td>\n",
              "      <td>...</td>\n",
              "      <td>...</td>\n",
              "      <td>...</td>\n",
              "      <td>...</td>\n",
              "      <td>...</td>\n",
              "      <td>...</td>\n",
              "    </tr>\n",
              "    <tr>\n",
              "      <th>368</th>\n",
              "      <td>3</td>\n",
              "      <td>0.233</td>\n",
              "      <td>0.476</td>\n",
              "      <td>0.144</td>\n",
              "      <td>3.06</td>\n",
              "      <td>0.464</td>\n",
              "      <td>0.364</td>\n",
              "      <td>0.972</td>\n",
              "    </tr>\n",
              "    <tr>\n",
              "      <th>369</th>\n",
              "      <td>3</td>\n",
              "      <td>0.225</td>\n",
              "      <td>0.447</td>\n",
              "      <td>0.143</td>\n",
              "      <td>3.00</td>\n",
              "      <td>0.437</td>\n",
              "      <td>0.361</td>\n",
              "      <td>0.956</td>\n",
              "    </tr>\n",
              "    <tr>\n",
              "      <th>370</th>\n",
              "      <td>3</td>\n",
              "      <td>0.192</td>\n",
              "      <td>0.484</td>\n",
              "      <td>0.137</td>\n",
              "      <td>3.87</td>\n",
              "      <td>0.455</td>\n",
              "      <td>0.366</td>\n",
              "      <td>0.956</td>\n",
              "    </tr>\n",
              "    <tr>\n",
              "      <th>371</th>\n",
              "      <td>3</td>\n",
              "      <td>0.228</td>\n",
              "      <td>0.471</td>\n",
              "      <td>0.178</td>\n",
              "      <td>4.40</td>\n",
              "      <td>0.448</td>\n",
              "      <td>0.372</td>\n",
              "      <td>0.918</td>\n",
              "    </tr>\n",
              "    <tr>\n",
              "      <th>372</th>\n",
              "      <td>3</td>\n",
              "      <td>0.212</td>\n",
              "      <td>0.446</td>\n",
              "      <td>0.180</td>\n",
              "      <td>3.72</td>\n",
              "      <td>0.492</td>\n",
              "      <td>0.326</td>\n",
              "      <td>1.030</td>\n",
              "    </tr>\n",
              "  </tbody>\n",
              "</table>\n",
              "<p>373 rows × 8 columns</p>\n",
              "</div>\n",
              "      <button class=\"colab-df-convert\" onclick=\"convertToInteractive('df-54a600f0-0d55-40ac-a34a-2ebbe0e8c54e')\"\n",
              "              title=\"Convert this dataframe to an interactive table.\"\n",
              "              style=\"display:none;\">\n",
              "        \n",
              "  <svg xmlns=\"http://www.w3.org/2000/svg\" height=\"24px\"viewBox=\"0 0 24 24\"\n",
              "       width=\"24px\">\n",
              "    <path d=\"M0 0h24v24H0V0z\" fill=\"none\"/>\n",
              "    <path d=\"M18.56 5.44l.94 2.06.94-2.06 2.06-.94-2.06-.94-.94-2.06-.94 2.06-2.06.94zm-11 1L8.5 8.5l.94-2.06 2.06-.94-2.06-.94L8.5 2.5l-.94 2.06-2.06.94zm10 10l.94 2.06.94-2.06 2.06-.94-2.06-.94-.94-2.06-.94 2.06-2.06.94z\"/><path d=\"M17.41 7.96l-1.37-1.37c-.4-.4-.92-.59-1.43-.59-.52 0-1.04.2-1.43.59L10.3 9.45l-7.72 7.72c-.78.78-.78 2.05 0 2.83L4 21.41c.39.39.9.59 1.41.59.51 0 1.02-.2 1.41-.59l7.78-7.78 2.81-2.81c.8-.78.8-2.07 0-2.86zM5.41 20L4 18.59l7.72-7.72 1.47 1.35L5.41 20z\"/>\n",
              "  </svg>\n",
              "      </button>\n",
              "      \n",
              "  <style>\n",
              "    .colab-df-container {\n",
              "      display:flex;\n",
              "      flex-wrap:wrap;\n",
              "      gap: 12px;\n",
              "    }\n",
              "\n",
              "    .colab-df-convert {\n",
              "      background-color: #E8F0FE;\n",
              "      border: none;\n",
              "      border-radius: 50%;\n",
              "      cursor: pointer;\n",
              "      display: none;\n",
              "      fill: #1967D2;\n",
              "      height: 32px;\n",
              "      padding: 0 0 0 0;\n",
              "      width: 32px;\n",
              "    }\n",
              "\n",
              "    .colab-df-convert:hover {\n",
              "      background-color: #E2EBFA;\n",
              "      box-shadow: 0px 1px 2px rgba(60, 64, 67, 0.3), 0px 1px 3px 1px rgba(60, 64, 67, 0.15);\n",
              "      fill: #174EA6;\n",
              "    }\n",
              "\n",
              "    [theme=dark] .colab-df-convert {\n",
              "      background-color: #3B4455;\n",
              "      fill: #D2E3FC;\n",
              "    }\n",
              "\n",
              "    [theme=dark] .colab-df-convert:hover {\n",
              "      background-color: #434B5C;\n",
              "      box-shadow: 0px 1px 3px 1px rgba(0, 0, 0, 0.15);\n",
              "      filter: drop-shadow(0px 1px 2px rgba(0, 0, 0, 0.3));\n",
              "      fill: #FFFFFF;\n",
              "    }\n",
              "  </style>\n",
              "\n",
              "      <script>\n",
              "        const buttonEl =\n",
              "          document.querySelector('#df-54a600f0-0d55-40ac-a34a-2ebbe0e8c54e button.colab-df-convert');\n",
              "        buttonEl.style.display =\n",
              "          google.colab.kernel.accessAllowed ? 'block' : 'none';\n",
              "\n",
              "        async function convertToInteractive(key) {\n",
              "          const element = document.querySelector('#df-54a600f0-0d55-40ac-a34a-2ebbe0e8c54e');\n",
              "          const dataTable =\n",
              "            await google.colab.kernel.invokeFunction('convertToInteractive',\n",
              "                                                     [key], {});\n",
              "          if (!dataTable) return;\n",
              "\n",
              "          const docLinkHtml = 'Like what you see? Visit the ' +\n",
              "            '<a target=\"_blank\" href=https://colab.research.google.com/notebooks/data_table.ipynb>data table notebook</a>'\n",
              "            + ' to learn more about interactive tables.';\n",
              "          element.innerHTML = '';\n",
              "          dataTable['output_type'] = 'display_data';\n",
              "          await google.colab.output.renderOutput(dataTable, element);\n",
              "          const docLink = document.createElement('div');\n",
              "          docLink.innerHTML = docLinkHtml;\n",
              "          element.appendChild(docLink);\n",
              "        }\n",
              "      </script>\n",
              "    </div>\n",
              "  </div>\n",
              "  "
            ]
          },
          "metadata": {},
          "execution_count": 8
        }
      ]
    },
    {
      "cell_type": "code",
      "source": [
        "x_prime_dt =  xDataDT.iloc[:, 1:8]\n",
        "x_prime_dt = x_prime_dt.reset_index(drop=True)\n",
        "\n",
        "y_data_dt = xDataDT.iloc[:, 0:1]\n",
        "y_data_dt = y_data_dt.reset_index(drop=True)\n",
        "# y_data\n",
        "\n",
        "# The preprocessing.scale() algorithm puts your data on one scale.\n",
        "# This is helpful with largely sparse datasets. In simple words, your data is vastly spread out.\n",
        "x_dt = preprocessing.scale(x_prime_dt)\n",
        "x_dt.shape"
      ],
      "metadata": {
        "id": "QSPKVjn1ZzFq",
        "colab": {
          "base_uri": "https://localhost:8080/"
        },
        "outputId": "6e6aef24-d5c9-4cb9-c812-3db20cc6bdfd"
      },
      "execution_count": null,
      "outputs": [
        {
          "output_type": "execute_result",
          "data": {
            "text/plain": [
              "(373, 7)"
            ]
          },
          "metadata": {},
          "execution_count": 12
        }
      ]
    },
    {
      "cell_type": "code",
      "source": [
        "y_data_dt"
      ],
      "metadata": {
        "id": "lZuriVfLmr2E",
        "colab": {
          "base_uri": "https://localhost:8080/",
          "height": 423
        },
        "outputId": "fde9839e-f906-46cd-a3e7-fc4079dea6fe"
      },
      "execution_count": null,
      "outputs": [
        {
          "output_type": "execute_result",
          "data": {
            "text/plain": [
              "    Expression\n",
              "0            1\n",
              "1            2\n",
              "2            3\n",
              "3            2\n",
              "4            3\n",
              "..         ...\n",
              "368          3\n",
              "369          3\n",
              "370          3\n",
              "371          3\n",
              "372          3\n",
              "\n",
              "[373 rows x 1 columns]"
            ],
            "text/html": [
              "\n",
              "  <div id=\"df-bad4189d-2fa5-4a43-8997-4cfdd25bab73\">\n",
              "    <div class=\"colab-df-container\">\n",
              "      <div>\n",
              "<style scoped>\n",
              "    .dataframe tbody tr th:only-of-type {\n",
              "        vertical-align: middle;\n",
              "    }\n",
              "\n",
              "    .dataframe tbody tr th {\n",
              "        vertical-align: top;\n",
              "    }\n",
              "\n",
              "    .dataframe thead th {\n",
              "        text-align: right;\n",
              "    }\n",
              "</style>\n",
              "<table border=\"1\" class=\"dataframe\">\n",
              "  <thead>\n",
              "    <tr style=\"text-align: right;\">\n",
              "      <th></th>\n",
              "      <th>Expression</th>\n",
              "    </tr>\n",
              "  </thead>\n",
              "  <tbody>\n",
              "    <tr>\n",
              "      <th>0</th>\n",
              "      <td>1</td>\n",
              "    </tr>\n",
              "    <tr>\n",
              "      <th>1</th>\n",
              "      <td>2</td>\n",
              "    </tr>\n",
              "    <tr>\n",
              "      <th>2</th>\n",
              "      <td>3</td>\n",
              "    </tr>\n",
              "    <tr>\n",
              "      <th>3</th>\n",
              "      <td>2</td>\n",
              "    </tr>\n",
              "    <tr>\n",
              "      <th>4</th>\n",
              "      <td>3</td>\n",
              "    </tr>\n",
              "    <tr>\n",
              "      <th>...</th>\n",
              "      <td>...</td>\n",
              "    </tr>\n",
              "    <tr>\n",
              "      <th>368</th>\n",
              "      <td>3</td>\n",
              "    </tr>\n",
              "    <tr>\n",
              "      <th>369</th>\n",
              "      <td>3</td>\n",
              "    </tr>\n",
              "    <tr>\n",
              "      <th>370</th>\n",
              "      <td>3</td>\n",
              "    </tr>\n",
              "    <tr>\n",
              "      <th>371</th>\n",
              "      <td>3</td>\n",
              "    </tr>\n",
              "    <tr>\n",
              "      <th>372</th>\n",
              "      <td>3</td>\n",
              "    </tr>\n",
              "  </tbody>\n",
              "</table>\n",
              "<p>373 rows × 1 columns</p>\n",
              "</div>\n",
              "      <button class=\"colab-df-convert\" onclick=\"convertToInteractive('df-bad4189d-2fa5-4a43-8997-4cfdd25bab73')\"\n",
              "              title=\"Convert this dataframe to an interactive table.\"\n",
              "              style=\"display:none;\">\n",
              "        \n",
              "  <svg xmlns=\"http://www.w3.org/2000/svg\" height=\"24px\"viewBox=\"0 0 24 24\"\n",
              "       width=\"24px\">\n",
              "    <path d=\"M0 0h24v24H0V0z\" fill=\"none\"/>\n",
              "    <path d=\"M18.56 5.44l.94 2.06.94-2.06 2.06-.94-2.06-.94-.94-2.06-.94 2.06-2.06.94zm-11 1L8.5 8.5l.94-2.06 2.06-.94-2.06-.94L8.5 2.5l-.94 2.06-2.06.94zm10 10l.94 2.06.94-2.06 2.06-.94-2.06-.94-.94-2.06-.94 2.06-2.06.94z\"/><path d=\"M17.41 7.96l-1.37-1.37c-.4-.4-.92-.59-1.43-.59-.52 0-1.04.2-1.43.59L10.3 9.45l-7.72 7.72c-.78.78-.78 2.05 0 2.83L4 21.41c.39.39.9.59 1.41.59.51 0 1.02-.2 1.41-.59l7.78-7.78 2.81-2.81c.8-.78.8-2.07 0-2.86zM5.41 20L4 18.59l7.72-7.72 1.47 1.35L5.41 20z\"/>\n",
              "  </svg>\n",
              "      </button>\n",
              "      \n",
              "  <style>\n",
              "    .colab-df-container {\n",
              "      display:flex;\n",
              "      flex-wrap:wrap;\n",
              "      gap: 12px;\n",
              "    }\n",
              "\n",
              "    .colab-df-convert {\n",
              "      background-color: #E8F0FE;\n",
              "      border: none;\n",
              "      border-radius: 50%;\n",
              "      cursor: pointer;\n",
              "      display: none;\n",
              "      fill: #1967D2;\n",
              "      height: 32px;\n",
              "      padding: 0 0 0 0;\n",
              "      width: 32px;\n",
              "    }\n",
              "\n",
              "    .colab-df-convert:hover {\n",
              "      background-color: #E2EBFA;\n",
              "      box-shadow: 0px 1px 2px rgba(60, 64, 67, 0.3), 0px 1px 3px 1px rgba(60, 64, 67, 0.15);\n",
              "      fill: #174EA6;\n",
              "    }\n",
              "\n",
              "    [theme=dark] .colab-df-convert {\n",
              "      background-color: #3B4455;\n",
              "      fill: #D2E3FC;\n",
              "    }\n",
              "\n",
              "    [theme=dark] .colab-df-convert:hover {\n",
              "      background-color: #434B5C;\n",
              "      box-shadow: 0px 1px 3px 1px rgba(0, 0, 0, 0.15);\n",
              "      filter: drop-shadow(0px 1px 2px rgba(0, 0, 0, 0.3));\n",
              "      fill: #FFFFFF;\n",
              "    }\n",
              "  </style>\n",
              "\n",
              "      <script>\n",
              "        const buttonEl =\n",
              "          document.querySelector('#df-bad4189d-2fa5-4a43-8997-4cfdd25bab73 button.colab-df-convert');\n",
              "        buttonEl.style.display =\n",
              "          google.colab.kernel.accessAllowed ? 'block' : 'none';\n",
              "\n",
              "        async function convertToInteractive(key) {\n",
              "          const element = document.querySelector('#df-bad4189d-2fa5-4a43-8997-4cfdd25bab73');\n",
              "          const dataTable =\n",
              "            await google.colab.kernel.invokeFunction('convertToInteractive',\n",
              "                                                     [key], {});\n",
              "          if (!dataTable) return;\n",
              "\n",
              "          const docLinkHtml = 'Like what you see? Visit the ' +\n",
              "            '<a target=\"_blank\" href=https://colab.research.google.com/notebooks/data_table.ipynb>data table notebook</a>'\n",
              "            + ' to learn more about interactive tables.';\n",
              "          element.innerHTML = '';\n",
              "          dataTable['output_type'] = 'display_data';\n",
              "          await google.colab.output.renderOutput(dataTable, element);\n",
              "          const docLink = document.createElement('div');\n",
              "          docLink.innerHTML = docLinkHtml;\n",
              "          element.appendChild(docLink);\n",
              "        }\n",
              "      </script>\n",
              "    </div>\n",
              "  </div>\n",
              "  "
            ]
          },
          "metadata": {},
          "execution_count": 10
        }
      ]
    },
    {
      "cell_type": "code",
      "source": [
        "X_train, X_test, y_train, y_test = train_test_split(x_dt, y_data_dt, test_size = 0.20, random_state=42, shuffle=True)\n",
        "len(X_train),  len(X_test), len(y_train), len(y_test)"
      ],
      "metadata": {
        "id": "pSCrd7embHki",
        "colab": {
          "base_uri": "https://localhost:8080/"
        },
        "outputId": "2cc582b1-c1a9-4dd0-914a-552e6c9ee456"
      },
      "execution_count": null,
      "outputs": [
        {
          "output_type": "execute_result",
          "data": {
            "text/plain": [
              "(298, 75, 298, 75)"
            ]
          },
          "metadata": {},
          "execution_count": 15
        }
      ]
    },
    {
      "cell_type": "code",
      "source": [
        "y_train, y_test"
      ],
      "metadata": {
        "id": "G6yw6Ng5otSa",
        "colab": {
          "base_uri": "https://localhost:8080/"
        },
        "outputId": "c89bd437-4637-419c-fb3d-20cfaf81cd35"
      },
      "execution_count": null,
      "outputs": [
        {
          "output_type": "execute_result",
          "data": {
            "text/plain": [
              "(    Expression\n",
              " 192          3\n",
              " 75           2\n",
              " 84           2\n",
              " 361          3\n",
              " 16           2\n",
              " ..         ...\n",
              " 71           2\n",
              " 106          1\n",
              " 270          2\n",
              " 348          1\n",
              " 102          3\n",
              " \n",
              " [298 rows x 1 columns],     Expression\n",
              " 327          1\n",
              " 33           1\n",
              " 15           3\n",
              " 314          3\n",
              " 57           1\n",
              " ..         ...\n",
              " 94           1\n",
              " 195          2\n",
              " 311          2\n",
              " 292          1\n",
              " 347          3\n",
              " \n",
              " [75 rows x 1 columns])"
            ]
          },
          "metadata": {},
          "execution_count": 16
        }
      ]
    },
    {
      "cell_type": "code",
      "source": [
        "clf = DecisionTreeClassifier(criterion=\"entropy\", \n",
        "                             splitter=\"best\",\n",
        "                             min_samples_split=9, \n",
        "                             min_samples_leaf=18,\n",
        "                             random_state=62)\n",
        "\n",
        "clf = clf.fit(X_train, y_train)\n",
        "y_pred = clf.predict(X_test)\n",
        "print(\"Accuracy:\",metrics.accuracy_score(y_test, y_pred))"
      ],
      "metadata": {
        "id": "r-6Y-NliV9oN",
        "colab": {
          "base_uri": "https://localhost:8080/"
        },
        "outputId": "d4eaf536-b327-439f-88cf-d7ca1b046c86"
      },
      "execution_count": null,
      "outputs": [
        {
          "output_type": "stream",
          "name": "stdout",
          "text": [
            "Accuracy: 0.6133333333333333\n"
          ]
        }
      ]
    },
    {
      "cell_type": "code",
      "source": [
        "clf.get_n_leaves()"
      ],
      "metadata": {
        "id": "hfcrYcuykIml",
        "colab": {
          "base_uri": "https://localhost:8080/"
        },
        "outputId": "9e38a9ce-f75b-42f6-f3d2-352d47286753"
      },
      "execution_count": null,
      "outputs": [
        {
          "output_type": "execute_result",
          "data": {
            "text/plain": [
              "13"
            ]
          },
          "metadata": {},
          "execution_count": 18
        }
      ]
    },
    {
      "cell_type": "code",
      "source": [
        "feature_cols = [ 'Eye Lenght Ratio',\n",
        "                'Eye Dist Ratio', 'Nose Ratio',\n",
        "                'Lip Size Ratio', 'Lip Length Ratio',\n",
        "                'Brow Length Ratio', 'Aggressive Ratio']"
      ],
      "metadata": {
        "id": "5iAaDONTd25r"
      },
      "execution_count": null,
      "outputs": []
    },
    {
      "cell_type": "code",
      "source": [
        "y_test,y_train"
      ],
      "metadata": {
        "colab": {
          "base_uri": "https://localhost:8080/"
        },
        "id": "SnM8baozZuLf",
        "outputId": "52967f84-ae71-40ea-88f5-f3f2affb0656"
      },
      "execution_count": null,
      "outputs": [
        {
          "output_type": "execute_result",
          "data": {
            "text/plain": [
              "(    Expression\n",
              " 327          1\n",
              " 33           1\n",
              " 15           3\n",
              " 314          3\n",
              " 57           1\n",
              " ..         ...\n",
              " 94           1\n",
              " 195          2\n",
              " 311          2\n",
              " 292          1\n",
              " 347          3\n",
              " \n",
              " [75 rows x 1 columns],     Expression\n",
              " 192          3\n",
              " 75           2\n",
              " 84           2\n",
              " 361          3\n",
              " 16           2\n",
              " ..         ...\n",
              " 71           2\n",
              " 106          1\n",
              " 270          2\n",
              " 348          1\n",
              " 102          3\n",
              " \n",
              " [298 rows x 1 columns])"
            ]
          },
          "metadata": {},
          "execution_count": 27
        }
      ]
    },
    {
      "cell_type": "code",
      "source": [
        "print(classification_report(y_test, y_pred))"
      ],
      "metadata": {
        "colab": {
          "base_uri": "https://localhost:8080/"
        },
        "id": "HZlKkWPVzJyj",
        "outputId": "70a9004f-ae85-4879-c180-9eb2166cc57b"
      },
      "execution_count": null,
      "outputs": [
        {
          "output_type": "stream",
          "name": "stdout",
          "text": [
            "              precision    recall  f1-score   support\n",
            "\n",
            "           1       0.62      0.61      0.62        33\n",
            "           2       0.64      0.82      0.72        22\n",
            "           3       0.53      0.40      0.46        20\n",
            "\n",
            "    accuracy                           0.61        75\n",
            "   macro avg       0.60      0.61      0.60        75\n",
            "weighted avg       0.61      0.61      0.60        75\n",
            "\n"
          ]
        }
      ]
    },
    {
      "cell_type": "code",
      "source": [
        "# Plot the confusion matrix\n",
        "fig, ax = plt.subplots(figsize=(12, 8))\n",
        "# Create the matrix\n",
        "cm = confusion_matrix(y_test, y_pred)\n",
        "cmp = ConfusionMatrixDisplay(cm, display_labels=['Natural', 'Smile', 'Anger'])\n",
        "cmp.plot(ax=ax)\n",
        "\n",
        "plt.show();"
      ],
      "metadata": {
        "colab": {
          "base_uri": "https://localhost:8080/",
          "height": 501
        },
        "id": "R7R9xLrTy8i6",
        "outputId": "614ad8ce-862c-42f6-8e65-d44a3ff9acde"
      },
      "execution_count": null,
      "outputs": [
        {
          "output_type": "display_data",
          "data": {
            "text/plain": [
              "<Figure size 864x576 with 2 Axes>"
            ],
            "image/png": "[encoded data removed]"
          },
          "metadata": {
            "needs_background": "light"
          }
        }
      ]
    },
    {
      "cell_type": "code",
      "source": [
        "from six import StringIO\n",
        "from IPython.display import Image  \n",
        "from sklearn.tree import export_graphviz\n",
        "import pydotplus\n",
        "dot_data = StringIO()\n",
        "export_graphviz(clf, out_file=dot_data,  \n",
        "                filled=True, \n",
        "                rounded=True,\n",
        "                special_characters=True, \n",
        "                feature_names = feature_cols, \n",
        "                class_names= ['Natural', 'Smile', 'Azznger'])\n",
        "\n",
        "graph = pydotplus.graph_from_dot_data(dot_data.getvalue())  \n",
        "graph.write_png('diabetes.png')\n",
        "Image(graph.create_png())"
      ],
      "metadata": {
        "id": "FARuguM6cW6m"
      },
      "execution_count": null,
      "outputs": []
    },
    {
      "cell_type": "markdown",
      "source": [
        "## Support Vector Machine (SVM)"
      ],
      "metadata": {
        "id": "hzePkRaht8ET"
      }
    },
    {
      "cell_type": "code",
      "source": [
        "from sklearn.model_selection import train_test_split\n",
        "from sklearn.svm import SVC\n",
        "from sklearn.metrics import accuracy_score\n",
        "from sklearn.metrics import f1_score\n",
        "from sklearn import svm\n",
        "from sklearn import preprocessing"
      ],
      "metadata": {
        "id": "GcIcHZ-FuBxk"
      },
      "execution_count": null,
      "outputs": []
    },
    {
      "cell_type": "code",
      "source": [
        "# creating new data formatting set for SVM\n",
        "svm_X_data =  df.iloc[:, 1:8]\n",
        "\n",
        "gender_x_data_list = []\n",
        "\n",
        "for gender_x_data in df['Sample ID']:\n",
        "    thisXgenderData = \"\"\n",
        "    if gender_x_data.__contains__('-01'):\n",
        "        thisXgenderData = '1'\n",
        "    elif gender_x_data.__contains__('-02'):\n",
        "        thisXgenderData = '2'\n",
        "    elif gender_x_data.__contains__('-03'):\n",
        "        thisXgenderData = '3'\n",
        "    \n",
        "    gender_x_data_list.append(thisXgenderData)\n",
        "    \n",
        "df_for_ann = pd.DataFrame(gender_x_data_list,  columns =['Expression'])\n",
        "xDataSVM = pd.concat([df_for_ann, svm_X_data], axis=1)\n",
        "xDataSVM"
      ],
      "metadata": {
        "id": "TTsUigoxSYjK",
        "colab": {
          "base_uri": "https://localhost:8080/",
          "height": 424
        },
        "outputId": "9c22f2ab-8cbe-4b99-857b-59ff928948e4"
      },
      "execution_count": null,
      "outputs": [
        {
          "output_type": "execute_result",
          "data": {
            "text/plain": [
              "    Expression  Eye Lenght Ratio  Eye Dist Ratio  Nose Ratio  Lip Size Ratio  \\\n",
              "0            1             0.208           0.480       0.135            3.29   \n",
              "1            2             0.223           0.488       0.136            3.30   \n",
              "2            3             0.209           0.483       0.134            3.76   \n",
              "3            2             0.200           0.428       0.147            3.39   \n",
              "4            3             0.210           0.434       0.155            3.89   \n",
              "..         ...               ...             ...         ...             ...   \n",
              "368          3             0.233           0.476       0.144            3.06   \n",
              "369          3             0.225           0.447       0.143            3.00   \n",
              "370          3             0.192           0.484       0.137            3.87   \n",
              "371          3             0.228           0.471       0.178            4.40   \n",
              "372          3             0.212           0.446       0.180            3.72   \n",
              "\n",
              "     Lip Length Ratio  Brow Length Ratio  Aggressive Ratio  \n",
              "0               0.413              0.374             0.982  \n",
              "1               0.486              0.368             0.972  \n",
              "2               0.398              0.370             0.926  \n",
              "3               0.469              0.398             0.955  \n",
              "4               0.456              0.415             0.960  \n",
              "..                ...                ...               ...  \n",
              "368             0.464              0.364             0.972  \n",
              "369             0.437              0.361             0.956  \n",
              "370             0.455              0.366             0.956  \n",
              "371             0.448              0.372             0.918  \n",
              "372             0.492              0.326             1.030  \n",
              "\n",
              "[373 rows x 8 columns]"
            ],
            "text/html": [
              "\n",
              "  <div id=\"df-f536bd3d-b8d1-47df-89f1-dae88c35a023\">\n",
              "    <div class=\"colab-df-container\">\n",
              "      <div>\n",
              "<style scoped>\n",
              "    .dataframe tbody tr th:only-of-type {\n",
              "        vertical-align: middle;\n",
              "    }\n",
              "\n",
              "    .dataframe tbody tr th {\n",
              "        vertical-align: top;\n",
              "    }\n",
              "\n",
              "    .dataframe thead th {\n",
              "        text-align: right;\n",
              "    }\n",
              "</style>\n",
              "<table border=\"1\" class=\"dataframe\">\n",
              "  <thead>\n",
              "    <tr style=\"text-align: right;\">\n",
              "      <th></th>\n",
              "      <th>Expression</th>\n",
              "      <th>Eye Lenght Ratio</th>\n",
              "      <th>Eye Dist Ratio</th>\n",
              "      <th>Nose Ratio</th>\n",
              "      <th>Lip Size Ratio</th>\n",
              "      <th>Lip Length Ratio</th>\n",
              "      <th>Brow Length Ratio</th>\n",
              "      <th>Aggressive Ratio</th>\n",
              "    </tr>\n",
              "  </thead>\n",
              "  <tbody>\n",
              "    <tr>\n",
              "      <th>0</th>\n",
              "      <td>1</td>\n",
              "      <td>0.208</td>\n",
              "      <td>0.480</td>\n",
              "      <td>0.135</td>\n",
              "      <td>3.29</td>\n",
              "      <td>0.413</td>\n",
              "      <td>0.374</td>\n",
              "      <td>0.982</td>\n",
              "    </tr>\n",
              "    <tr>\n",
              "      <th>1</th>\n",
              "      <td>2</td>\n",
              "      <td>0.223</td>\n",
              "      <td>0.488</td>\n",
              "      <td>0.136</td>\n",
              "      <td>3.30</td>\n",
              "      <td>0.486</td>\n",
              "      <td>0.368</td>\n",
              "      <td>0.972</td>\n",
              "    </tr>\n",
              "    <tr>\n",
              "      <th>2</th>\n",
              "      <td>3</td>\n",
              "      <td>0.209</td>\n",
              "      <td>0.483</td>\n",
              "      <td>0.134</td>\n",
              "      <td>3.76</td>\n",
              "      <td>0.398</td>\n",
              "      <td>0.370</td>\n",
              "      <td>0.926</td>\n",
              "    </tr>\n",
              "    <tr>\n",
              "      <th>3</th>\n",
              "      <td>2</td>\n",
              "      <td>0.200</td>\n",
              "      <td>0.428</td>\n",
              "      <td>0.147</td>\n",
              "      <td>3.39</td>\n",
              "      <td>0.469</td>\n",
              "      <td>0.398</td>\n",
              "      <td>0.955</td>\n",
              "    </tr>\n",
              "    <tr>\n",
              "      <th>4</th>\n",
              "      <td>3</td>\n",
              "      <td>0.210</td>\n",
              "      <td>0.434</td>\n",
              "      <td>0.155</td>\n",
              "      <td>3.89</td>\n",
              "      <td>0.456</td>\n",
              "      <td>0.415</td>\n",
              "      <td>0.960</td>\n",
              "    </tr>\n",
              "    <tr>\n",
              "      <th>...</th>\n",
              "      <td>...</td>\n",
              "      <td>...</td>\n",
              "      <td>...</td>\n",
              "      <td>...</td>\n",
              "      <td>...</td>\n",
              "      <td>...</td>\n",
              "      <td>...</td>\n",
              "      <td>...</td>\n",
              "    </tr>\n",
              "    <tr>\n",
              "      <th>368</th>\n",
              "      <td>3</td>\n",
              "      <td>0.233</td>\n",
              "      <td>0.476</td>\n",
              "      <td>0.144</td>\n",
              "      <td>3.06</td>\n",
              "      <td>0.464</td>\n",
              "      <td>0.364</td>\n",
              "      <td>0.972</td>\n",
              "    </tr>\n",
              "    <tr>\n",
              "      <th>369</th>\n",
              "      <td>3</td>\n",
              "      <td>0.225</td>\n",
              "      <td>0.447</td>\n",
              "      <td>0.143</td>\n",
              "      <td>3.00</td>\n",
              "      <td>0.437</td>\n",
              "      <td>0.361</td>\n",
              "      <td>0.956</td>\n",
              "    </tr>\n",
              "    <tr>\n",
              "      <th>370</th>\n",
              "      <td>3</td>\n",
              "      <td>0.192</td>\n",
              "      <td>0.484</td>\n",
              "      <td>0.137</td>\n",
              "      <td>3.87</td>\n",
              "      <td>0.455</td>\n",
              "      <td>0.366</td>\n",
              "      <td>0.956</td>\n",
              "    </tr>\n",
              "    <tr>\n",
              "      <th>371</th>\n",
              "      <td>3</td>\n",
              "      <td>0.228</td>\n",
              "      <td>0.471</td>\n",
              "      <td>0.178</td>\n",
              "      <td>4.40</td>\n",
              "      <td>0.448</td>\n",
              "      <td>0.372</td>\n",
              "      <td>0.918</td>\n",
              "    </tr>\n",
              "    <tr>\n",
              "      <th>372</th>\n",
              "      <td>3</td>\n",
              "      <td>0.212</td>\n",
              "      <td>0.446</td>\n",
              "      <td>0.180</td>\n",
              "      <td>3.72</td>\n",
              "      <td>0.492</td>\n",
              "      <td>0.326</td>\n",
              "      <td>1.030</td>\n",
              "    </tr>\n",
              "  </tbody>\n",
              "</table>\n",
              "<p>373 rows × 8 columns</p>\n",
              "</div>\n",
              "      <button class=\"colab-df-convert\" onclick=\"convertToInteractive('df-f536bd3d-b8d1-47df-89f1-dae88c35a023')\"\n",
              "              title=\"Convert this dataframe to an interactive table.\"\n",
              "              style=\"display:none;\">\n",
              "        \n",
              "  <svg xmlns=\"http://www.w3.org/2000/svg\" height=\"24px\"viewBox=\"0 0 24 24\"\n",
              "       width=\"24px\">\n",
              "    <path d=\"M0 0h24v24H0V0z\" fill=\"none\"/>\n",
              "    <path d=\"M18.56 5.44l.94 2.06.94-2.06 2.06-.94-2.06-.94-.94-2.06-.94 2.06-2.06.94zm-11 1L8.5 8.5l.94-2.06 2.06-.94-2.06-.94L8.5 2.5l-.94 2.06-2.06.94zm10 10l.94 2.06.94-2.06 2.06-.94-2.06-.94-.94-2.06-.94 2.06-2.06.94z\"/><path d=\"M17.41 7.96l-1.37-1.37c-.4-.4-.92-.59-1.43-.59-.52 0-1.04.2-1.43.59L10.3 9.45l-7.72 7.72c-.78.78-.78 2.05 0 2.83L4 21.41c.39.39.9.59 1.41.59.51 0 1.02-.2 1.41-.59l7.78-7.78 2.81-2.81c.8-.78.8-2.07 0-2.86zM5.41 20L4 18.59l7.72-7.72 1.47 1.35L5.41 20z\"/>\n",
              "  </svg>\n",
              "      </button>\n",
              "      \n",
              "  <style>\n",
              "    .colab-df-container {\n",
              "      display:flex;\n",
              "      flex-wrap:wrap;\n",
              "      gap: 12px;\n",
              "    }\n",
              "\n",
              "    .colab-df-convert {\n",
              "      background-color: #E8F0FE;\n",
              "      border: none;\n",
              "      border-radius: 50%;\n",
              "      cursor: pointer;\n",
              "      display: none;\n",
              "      fill: #1967D2;\n",
              "      height: 32px;\n",
              "      padding: 0 0 0 0;\n",
              "      width: 32px;\n",
              "    }\n",
              "\n",
              "    .colab-df-convert:hover {\n",
              "      background-color: #E2EBFA;\n",
              "      box-shadow: 0px 1px 2px rgba(60, 64, 67, 0.3), 0px 1px 3px 1px rgba(60, 64, 67, 0.15);\n",
              "      fill: #174EA6;\n",
              "    }\n",
              "\n",
              "    [theme=dark] .colab-df-convert {\n",
              "      background-color: #3B4455;\n",
              "      fill: #D2E3FC;\n",
              "    }\n",
              "\n",
              "    [theme=dark] .colab-df-convert:hover {\n",
              "      background-color: #434B5C;\n",
              "      box-shadow: 0px 1px 3px 1px rgba(0, 0, 0, 0.15);\n",
              "      filter: drop-shadow(0px 1px 2px rgba(0, 0, 0, 0.3));\n",
              "      fill: #FFFFFF;\n",
              "    }\n",
              "  </style>\n",
              "\n",
              "      <script>\n",
              "        const buttonEl =\n",
              "          document.querySelector('#df-f536bd3d-b8d1-47df-89f1-dae88c35a023 button.colab-df-convert');\n",
              "        buttonEl.style.display =\n",
              "          google.colab.kernel.accessAllowed ? 'block' : 'none';\n",
              "\n",
              "        async function convertToInteractive(key) {\n",
              "          const element = document.querySelector('#df-f536bd3d-b8d1-47df-89f1-dae88c35a023');\n",
              "          const dataTable =\n",
              "            await google.colab.kernel.invokeFunction('convertToInteractive',\n",
              "                                                     [key], {});\n",
              "          if (!dataTable) return;\n",
              "\n",
              "          const docLinkHtml = 'Like what you see? Visit the ' +\n",
              "            '<a target=\"_blank\" href=https://colab.research.google.com/notebooks/data_table.ipynb>data table notebook</a>'\n",
              "            + ' to learn more about interactive tables.';\n",
              "          element.innerHTML = '';\n",
              "          dataTable['output_type'] = 'display_data';\n",
              "          await google.colab.output.renderOutput(dataTable, element);\n",
              "          const docLink = document.createElement('div');\n",
              "          docLink.innerHTML = docLinkHtml;\n",
              "          element.appendChild(docLink);\n",
              "        }\n",
              "      </script>\n",
              "    </div>\n",
              "  </div>\n",
              "  "
            ]
          },
          "metadata": {},
          "execution_count": 148
        }
      ]
    },
    {
      "cell_type": "code",
      "source": [
        "x_prime_svm =  xDataSVM.iloc[:, 0:8]\n",
        "x_prime_svm = x_prime_svm.reset_index(drop=True)\n",
        "\n",
        "y_data_svm = x_prime_svm.iloc[:, 0:1]\n",
        "y_data_svm = y_data_svm.reset_index(drop=True)\n",
        "# y_data\n",
        "\n",
        "# The preprocessing.scale() algorithm puts your data on one scale.\n",
        "# This is helpful with largely sparse datasets. In simple words, your data is vastly spread out.\n",
        "x_svm = preprocessing.scale(x_prime_svm)\n",
        "x_prime_svm.shape"
      ],
      "metadata": {
        "id": "mrExD7F4Sef-",
        "colab": {
          "base_uri": "https://localhost:8080/"
        },
        "outputId": "257ad728-7fd4-4aac-ab12-ee749424b96d"
      },
      "execution_count": null,
      "outputs": [
        {
          "output_type": "execute_result",
          "data": {
            "text/plain": [
              "(373, 8)"
            ]
          },
          "metadata": {},
          "execution_count": 151
        }
      ]
    },
    {
      "cell_type": "code",
      "source": [
        "X_train, X_test, y_train, y_test = train_test_split(x_svm, y_data_svm, test_size=0.20, random_state=42, shuffle=True)"
      ],
      "metadata": {
        "id": "rCvmAOpLSmtJ"
      },
      "execution_count": null,
      "outputs": []
    },
    {
      "cell_type": "code",
      "source": [
        "rbf = svm.SVC(kernel='rbf', gamma=0.05, C=0.1).fit(X_train, y_train)"
      ],
      "metadata": {
        "id": "Mh3sGrmSSsA6",
        "colab": {
          "base_uri": "https://localhost:8080/"
        },
        "outputId": "dfb1ef30-f78d-417c-fdaf-80ed28f4e93f"
      },
      "execution_count": null,
      "outputs": [
        {
          "output_type": "stream",
          "name": "stderr",
          "text": [
            "/usr/local/lib/python3.7/dist-packages/sklearn/utils/validation.py:993: DataConversionWarning: A column-vector y was passed when a 1d array was expected. Please change the shape of y to (n_samples, ), for example using ravel().\n",
            "  y = column_or_1d(y, warn=True)\n"
          ]
        }
      ]
    },
    {
      "cell_type": "code",
      "source": [
        "poly_pred = rbf.predict(X_test)\n",
        "poly_accuracy = accuracy_score(y_test, poly_pred)\n",
        "poly_f1 = f1_score(y_test, poly_pred, average='weighted')\n",
        "print('Accuracy (Polynomial Kernel): ', \"%.2f\" % (poly_accuracy*100))\n",
        "print('F1 (Polynomial Kernel): ', \"%.2f\" % (poly_f1*100))"
      ],
      "metadata": {
        "id": "ONRCDJk4SwCj",
        "colab": {
          "base_uri": "https://localhost:8080/"
        },
        "outputId": "53175561-c48f-41f1-d405-ffb50d8e8baf"
      },
      "execution_count": null,
      "outputs": [
        {
          "output_type": "stream",
          "name": "stdout",
          "text": [
            "Accuracy (Polynomial Kernel):  94.67\n",
            "F1 (Polynomial Kernel):  94.62\n"
          ]
        }
      ]
    },
    {
      "cell_type": "code",
      "source": [
        "print(classification_report(y_test, poly_pred))"
      ],
      "metadata": {
        "colab": {
          "base_uri": "https://localhost:8080/"
        },
        "id": "PtPFYLeE0llG",
        "outputId": "7db0d699-784d-480f-905b-2452680101a9"
      },
      "execution_count": null,
      "outputs": [
        {
          "output_type": "stream",
          "name": "stdout",
          "text": [
            "              precision    recall  f1-score   support\n",
            "\n",
            "           1       0.91      0.97      0.94        33\n",
            "           2       0.95      0.86      0.90        22\n",
            "           3       1.00      1.00      1.00        20\n",
            "\n",
            "    accuracy                           0.95        75\n",
            "   macro avg       0.95      0.94      0.95        75\n",
            "weighted avg       0.95      0.95      0.95        75\n",
            "\n"
          ]
        }
      ]
    },
    {
      "cell_type": "code",
      "source": [
        "# Plot the confusion matrix\n",
        "fig, ax = plt.subplots(figsize=(12, 8))\n",
        "# Create the matrix\n",
        "cm = confusion_matrix(y_test, poly_pred)\n",
        "cmp = ConfusionMatrixDisplay(cm, display_labels=['Natural', 'Smile', 'Anger'])\n",
        "cmp.plot(ax=ax)\n",
        "\n",
        "plt.show();"
      ],
      "metadata": {
        "colab": {
          "base_uri": "https://localhost:8080/",
          "height": 497
        },
        "id": "DHiMDjav0uPi",
        "outputId": "74d00b0f-af69-4a0c-af26-2c3b779b7bfc"
      },
      "execution_count": null,
      "outputs": [
        {
          "output_type": "display_data",
          "data": {
            "text/plain": [
              "<Figure size 864x576 with 2 Axes>"
            ],
            "image/png": "[encoded data removed]"
          },
          "metadata": {
            "needs_background": "light"
          }
        }
      ]
    }
  ]
}